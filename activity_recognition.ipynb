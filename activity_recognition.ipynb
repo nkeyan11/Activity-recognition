{
 "cells": [
  {
   "cell_type": "markdown",
   "id": "db108a47",
   "metadata": {},
   "source": [
    "# Activity Recognition system based on Multisensor data fusion (AReM) Data Set"
   ]
  },
  {
   "cell_type": "markdown",
   "id": "731a01c9",
   "metadata": {},
   "source": [
    "### https://archive.ics.uci.edu/ml/datasets/Activity+Recognition+system+based+on+Multisensor+data+fusion+%28AReM%29#"
   ]
  },
  {
   "cell_type": "code",
   "execution_count": 1,
   "id": "6e55da91",
   "metadata": {},
   "outputs": [],
   "source": [
    "import pandas as pd\n",
    "import numpy as np\n",
    "from sklearn.preprocessing import StandardScaler\n",
    "from sklearn.linear_model import LogisticRegression\n",
    "from statsmodels.stats.outliers_influence import variance_inflation_factor\n",
    "from sklearn.model_selection import train_test_split\n",
    "import matplotlib.pyplot as plt\n",
    "from pandas_profiling import ProfileReport\n",
    "import pickle\n",
    "import seaborn as sns\n",
    "from sklearn.metrics import accuracy_score,confusion_matrix,roc_auc_score,roc_curve"
   ]
  },
  {
   "cell_type": "markdown",
   "id": "5a0d000b",
   "metadata": {},
   "source": [
    "## Reading and appending data for each activity"
   ]
  },
  {
   "cell_type": "markdown",
   "id": "d7c5bdb6",
   "metadata": {},
   "source": [
    "###  Bending 1 >> Number assigned= 0"
   ]
  },
  {
   "cell_type": "code",
   "execution_count": 2,
   "id": "c9aba4d5",
   "metadata": {},
   "outputs": [
    {
     "name": "stdout",
     "output_type": "stream",
     "text": [
      "C:\\Users\\nkeya\\in_ML_class\\activity_recognition\\bending1\n"
     ]
    }
   ],
   "source": [
    "cd bending1"
   ]
  },
  {
   "cell_type": "code",
   "execution_count": 3,
   "id": "dca9f20d",
   "metadata": {
    "scrolled": true
   },
   "outputs": [],
   "source": [
    "# ls"
   ]
  },
  {
   "cell_type": "code",
   "execution_count": 4,
   "id": "b296b37f",
   "metadata": {},
   "outputs": [],
   "source": [
    "bend1_list=[]"
   ]
  },
  {
   "cell_type": "code",
   "execution_count": 5,
   "id": "31ab6568",
   "metadata": {},
   "outputs": [],
   "source": [
    "for i in range(1,8):\n",
    "    bd1=pd.read_csv(f'dataset{i}.csv',skiprows=4)\n",
    "    bend1_list.append(bd1)"
   ]
  },
  {
   "cell_type": "code",
   "execution_count": 6,
   "id": "d2584723",
   "metadata": {},
   "outputs": [],
   "source": [
    "bend1=bend1_list[0]"
   ]
  },
  {
   "cell_type": "code",
   "execution_count": 7,
   "id": "ab7a6a7e",
   "metadata": {},
   "outputs": [],
   "source": [
    "bend1=bend1.append(bend1_list[1:],ignore_index=True)"
   ]
  },
  {
   "cell_type": "code",
   "execution_count": 8,
   "id": "2bd84d4a",
   "metadata": {},
   "outputs": [],
   "source": [
    "bending1=bend1"
   ]
  },
  {
   "cell_type": "code",
   "execution_count": 9,
   "id": "8273c59e",
   "metadata": {},
   "outputs": [],
   "source": [
    "bending1[\"activity\"]=\"Bending1\""
   ]
  },
  {
   "cell_type": "code",
   "execution_count": 10,
   "id": "2e31d6ce",
   "metadata": {},
   "outputs": [],
   "source": [
    "bending1[\"activity_num\"]=0"
   ]
  },
  {
   "cell_type": "code",
   "execution_count": 11,
   "id": "ca177216",
   "metadata": {},
   "outputs": [
    {
     "data": {
      "text/html": [
       "<div>\n",
       "<style scoped>\n",
       "    .dataframe tbody tr th:only-of-type {\n",
       "        vertical-align: middle;\n",
       "    }\n",
       "\n",
       "    .dataframe tbody tr th {\n",
       "        vertical-align: top;\n",
       "    }\n",
       "\n",
       "    .dataframe thead th {\n",
       "        text-align: right;\n",
       "    }\n",
       "</style>\n",
       "<table border=\"1\" class=\"dataframe\">\n",
       "  <thead>\n",
       "    <tr style=\"text-align: right;\">\n",
       "      <th></th>\n",
       "      <th># Columns: time</th>\n",
       "      <th>avg_rss12</th>\n",
       "      <th>var_rss12</th>\n",
       "      <th>avg_rss13</th>\n",
       "      <th>var_rss13</th>\n",
       "      <th>avg_rss23</th>\n",
       "      <th>var_rss23</th>\n",
       "      <th>activity</th>\n",
       "      <th>activity_num</th>\n",
       "    </tr>\n",
       "  </thead>\n",
       "  <tbody>\n",
       "    <tr>\n",
       "      <th>0</th>\n",
       "      <td>0</td>\n",
       "      <td>39.25</td>\n",
       "      <td>0.43</td>\n",
       "      <td>22.75</td>\n",
       "      <td>0.43</td>\n",
       "      <td>33.75</td>\n",
       "      <td>1.30</td>\n",
       "      <td>Bending1</td>\n",
       "      <td>0</td>\n",
       "    </tr>\n",
       "    <tr>\n",
       "      <th>1</th>\n",
       "      <td>250</td>\n",
       "      <td>39.25</td>\n",
       "      <td>0.43</td>\n",
       "      <td>23.00</td>\n",
       "      <td>0.00</td>\n",
       "      <td>33.00</td>\n",
       "      <td>0.00</td>\n",
       "      <td>Bending1</td>\n",
       "      <td>0</td>\n",
       "    </tr>\n",
       "    <tr>\n",
       "      <th>2</th>\n",
       "      <td>500</td>\n",
       "      <td>39.25</td>\n",
       "      <td>0.43</td>\n",
       "      <td>23.25</td>\n",
       "      <td>0.43</td>\n",
       "      <td>33.00</td>\n",
       "      <td>0.00</td>\n",
       "      <td>Bending1</td>\n",
       "      <td>0</td>\n",
       "    </tr>\n",
       "    <tr>\n",
       "      <th>3</th>\n",
       "      <td>750</td>\n",
       "      <td>39.50</td>\n",
       "      <td>0.50</td>\n",
       "      <td>23.00</td>\n",
       "      <td>0.71</td>\n",
       "      <td>33.00</td>\n",
       "      <td>0.00</td>\n",
       "      <td>Bending1</td>\n",
       "      <td>0</td>\n",
       "    </tr>\n",
       "    <tr>\n",
       "      <th>4</th>\n",
       "      <td>1000</td>\n",
       "      <td>39.50</td>\n",
       "      <td>0.50</td>\n",
       "      <td>24.00</td>\n",
       "      <td>0.00</td>\n",
       "      <td>33.00</td>\n",
       "      <td>0.00</td>\n",
       "      <td>Bending1</td>\n",
       "      <td>0</td>\n",
       "    </tr>\n",
       "    <tr>\n",
       "      <th>...</th>\n",
       "      <td>...</td>\n",
       "      <td>...</td>\n",
       "      <td>...</td>\n",
       "      <td>...</td>\n",
       "      <td>...</td>\n",
       "      <td>...</td>\n",
       "      <td>...</td>\n",
       "      <td>...</td>\n",
       "      <td>...</td>\n",
       "    </tr>\n",
       "    <tr>\n",
       "      <th>3355</th>\n",
       "      <td>118750</td>\n",
       "      <td>44.25</td>\n",
       "      <td>0.83</td>\n",
       "      <td>16.25</td>\n",
       "      <td>1.30</td>\n",
       "      <td>24.00</td>\n",
       "      <td>0.00</td>\n",
       "      <td>Bending1</td>\n",
       "      <td>0</td>\n",
       "    </tr>\n",
       "    <tr>\n",
       "      <th>3356</th>\n",
       "      <td>119000</td>\n",
       "      <td>44.00</td>\n",
       "      <td>0.71</td>\n",
       "      <td>11.00</td>\n",
       "      <td>1.00</td>\n",
       "      <td>24.00</td>\n",
       "      <td>0.00</td>\n",
       "      <td>Bending1</td>\n",
       "      <td>0</td>\n",
       "    </tr>\n",
       "    <tr>\n",
       "      <th>3357</th>\n",
       "      <td>119250</td>\n",
       "      <td>44.25</td>\n",
       "      <td>0.43</td>\n",
       "      <td>10.25</td>\n",
       "      <td>1.30</td>\n",
       "      <td>22.75</td>\n",
       "      <td>0.83</td>\n",
       "      <td>Bending1</td>\n",
       "      <td>0</td>\n",
       "    </tr>\n",
       "    <tr>\n",
       "      <th>3358</th>\n",
       "      <td>119500</td>\n",
       "      <td>43.75</td>\n",
       "      <td>0.43</td>\n",
       "      <td>7.33</td>\n",
       "      <td>2.87</td>\n",
       "      <td>21.50</td>\n",
       "      <td>0.50</td>\n",
       "      <td>Bending1</td>\n",
       "      <td>0</td>\n",
       "    </tr>\n",
       "    <tr>\n",
       "      <th>3359</th>\n",
       "      <td>119750</td>\n",
       "      <td>44.50</td>\n",
       "      <td>0.50</td>\n",
       "      <td>3.00</td>\n",
       "      <td>1.22</td>\n",
       "      <td>21.50</td>\n",
       "      <td>0.50</td>\n",
       "      <td>Bending1</td>\n",
       "      <td>0</td>\n",
       "    </tr>\n",
       "  </tbody>\n",
       "</table>\n",
       "<p>3360 rows × 9 columns</p>\n",
       "</div>"
      ],
      "text/plain": [
       "      # Columns: time  avg_rss12  var_rss12  avg_rss13  var_rss13  avg_rss23  \\\n",
       "0                   0      39.25       0.43      22.75       0.43      33.75   \n",
       "1                 250      39.25       0.43      23.00       0.00      33.00   \n",
       "2                 500      39.25       0.43      23.25       0.43      33.00   \n",
       "3                 750      39.50       0.50      23.00       0.71      33.00   \n",
       "4                1000      39.50       0.50      24.00       0.00      33.00   \n",
       "...               ...        ...        ...        ...        ...        ...   \n",
       "3355           118750      44.25       0.83      16.25       1.30      24.00   \n",
       "3356           119000      44.00       0.71      11.00       1.00      24.00   \n",
       "3357           119250      44.25       0.43      10.25       1.30      22.75   \n",
       "3358           119500      43.75       0.43       7.33       2.87      21.50   \n",
       "3359           119750      44.50       0.50       3.00       1.22      21.50   \n",
       "\n",
       "      var_rss23  activity  activity_num  \n",
       "0          1.30  Bending1             0  \n",
       "1          0.00  Bending1             0  \n",
       "2          0.00  Bending1             0  \n",
       "3          0.00  Bending1             0  \n",
       "4          0.00  Bending1             0  \n",
       "...         ...       ...           ...  \n",
       "3355       0.00  Bending1             0  \n",
       "3356       0.00  Bending1             0  \n",
       "3357       0.83  Bending1             0  \n",
       "3358       0.50  Bending1             0  \n",
       "3359       0.50  Bending1             0  \n",
       "\n",
       "[3360 rows x 9 columns]"
      ]
     },
     "execution_count": 11,
     "metadata": {},
     "output_type": "execute_result"
    }
   ],
   "source": [
    "bending1"
   ]
  },
  {
   "cell_type": "markdown",
   "id": "333da71c",
   "metadata": {},
   "source": [
    "### Bending2  Number assigned >> 1"
   ]
  },
  {
   "cell_type": "code",
   "execution_count": 12,
   "id": "833da997",
   "metadata": {},
   "outputs": [
    {
     "name": "stdout",
     "output_type": "stream",
     "text": [
      "C:\\Users\\nkeya\\in_ML_class\\activity_recognition\n"
     ]
    }
   ],
   "source": [
    "cd .."
   ]
  },
  {
   "cell_type": "code",
   "execution_count": 13,
   "id": "9a886097",
   "metadata": {},
   "outputs": [
    {
     "name": "stdout",
     "output_type": "stream",
     "text": [
      "C:\\Users\\nkeya\\in_ML_class\\activity_recognition\\bending2\n"
     ]
    }
   ],
   "source": [
    "cd bending2"
   ]
  },
  {
   "cell_type": "code",
   "execution_count": 14,
   "id": "5414d46f",
   "metadata": {
    "scrolled": true
   },
   "outputs": [],
   "source": [
    "# ls"
   ]
  },
  {
   "cell_type": "code",
   "execution_count": 15,
   "id": "b9eca65f",
   "metadata": {},
   "outputs": [],
   "source": [
    "bend2_list=[]"
   ]
  },
  {
   "cell_type": "code",
   "execution_count": 16,
   "id": "ac183f79",
   "metadata": {},
   "outputs": [],
   "source": [
    "for i in range(1,7):\n",
    "    if i==4:\n",
    "        continue\n",
    "    bd2=pd.read_csv(f'dataset{i}.csv',skiprows=4)\n",
    "    bend2_list.append(bd2)"
   ]
  },
  {
   "cell_type": "code",
   "execution_count": 17,
   "id": "aef9ab4c",
   "metadata": {},
   "outputs": [
    {
     "data": {
      "text/plain": [
       "5"
      ]
     },
     "execution_count": 17,
     "metadata": {},
     "output_type": "execute_result"
    }
   ],
   "source": [
    "len(bend2_list)"
   ]
  },
  {
   "cell_type": "code",
   "execution_count": 18,
   "id": "4bb10e14",
   "metadata": {},
   "outputs": [],
   "source": [
    "bd4=pd.read_csv('dataset4.csv',skiprows=5,delimiter=\" \",header=None)"
   ]
  },
  {
   "cell_type": "code",
   "execution_count": 19,
   "id": "b6c57de3",
   "metadata": {},
   "outputs": [],
   "source": [
    "bd4.columns=['# Columns: time','avg_rss12','var_rss12','avg_rss13','var_rss13','avg_rss23','var_rss23','77']"
   ]
  },
  {
   "cell_type": "code",
   "execution_count": 20,
   "id": "19ac0ecf",
   "metadata": {},
   "outputs": [],
   "source": [
    "bd4=bd4.drop(['77'],axis=1)"
   ]
  },
  {
   "cell_type": "code",
   "execution_count": 21,
   "id": "a0c3d093",
   "metadata": {},
   "outputs": [
    {
     "data": {
      "text/html": [
       "<div>\n",
       "<style scoped>\n",
       "    .dataframe tbody tr th:only-of-type {\n",
       "        vertical-align: middle;\n",
       "    }\n",
       "\n",
       "    .dataframe tbody tr th {\n",
       "        vertical-align: top;\n",
       "    }\n",
       "\n",
       "    .dataframe thead th {\n",
       "        text-align: right;\n",
       "    }\n",
       "</style>\n",
       "<table border=\"1\" class=\"dataframe\">\n",
       "  <thead>\n",
       "    <tr style=\"text-align: right;\">\n",
       "      <th></th>\n",
       "      <th># Columns: time</th>\n",
       "      <th>avg_rss12</th>\n",
       "      <th>var_rss12</th>\n",
       "      <th>avg_rss13</th>\n",
       "      <th>var_rss13</th>\n",
       "      <th>avg_rss23</th>\n",
       "      <th>var_rss23</th>\n",
       "    </tr>\n",
       "  </thead>\n",
       "  <tbody>\n",
       "    <tr>\n",
       "      <th>0</th>\n",
       "      <td>0</td>\n",
       "      <td>32.50</td>\n",
       "      <td>0.50</td>\n",
       "      <td>0.00</td>\n",
       "      <td>0.00</td>\n",
       "      <td>19.00</td>\n",
       "      <td>1.00</td>\n",
       "    </tr>\n",
       "    <tr>\n",
       "      <th>1</th>\n",
       "      <td>250</td>\n",
       "      <td>32.50</td>\n",
       "      <td>0.50</td>\n",
       "      <td>0.00</td>\n",
       "      <td>0.00</td>\n",
       "      <td>18.50</td>\n",
       "      <td>0.50</td>\n",
       "    </tr>\n",
       "    <tr>\n",
       "      <th>2</th>\n",
       "      <td>500</td>\n",
       "      <td>32.75</td>\n",
       "      <td>0.43</td>\n",
       "      <td>1.00</td>\n",
       "      <td>0.00</td>\n",
       "      <td>18.00</td>\n",
       "      <td>0.00</td>\n",
       "    </tr>\n",
       "    <tr>\n",
       "      <th>3</th>\n",
       "      <td>750</td>\n",
       "      <td>32.50</td>\n",
       "      <td>0.50</td>\n",
       "      <td>0.00</td>\n",
       "      <td>0.00</td>\n",
       "      <td>17.50</td>\n",
       "      <td>0.50</td>\n",
       "    </tr>\n",
       "    <tr>\n",
       "      <th>4</th>\n",
       "      <td>1000</td>\n",
       "      <td>32.50</td>\n",
       "      <td>0.50</td>\n",
       "      <td>7.50</td>\n",
       "      <td>0.50</td>\n",
       "      <td>17.50</td>\n",
       "      <td>0.87</td>\n",
       "    </tr>\n",
       "    <tr>\n",
       "      <th>...</th>\n",
       "      <td>...</td>\n",
       "      <td>...</td>\n",
       "      <td>...</td>\n",
       "      <td>...</td>\n",
       "      <td>...</td>\n",
       "      <td>...</td>\n",
       "      <td>...</td>\n",
       "    </tr>\n",
       "    <tr>\n",
       "      <th>475</th>\n",
       "      <td>118750</td>\n",
       "      <td>28.67</td>\n",
       "      <td>0.47</td>\n",
       "      <td>4.67</td>\n",
       "      <td>1.25</td>\n",
       "      <td>17.33</td>\n",
       "      <td>0.47</td>\n",
       "    </tr>\n",
       "    <tr>\n",
       "      <th>476</th>\n",
       "      <td>119000</td>\n",
       "      <td>27.50</td>\n",
       "      <td>0.50</td>\n",
       "      <td>5.50</td>\n",
       "      <td>2.50</td>\n",
       "      <td>17.25</td>\n",
       "      <td>1.30</td>\n",
       "    </tr>\n",
       "    <tr>\n",
       "      <th>477</th>\n",
       "      <td>119250</td>\n",
       "      <td>28.00</td>\n",
       "      <td>0.00</td>\n",
       "      <td>6.67</td>\n",
       "      <td>0.94</td>\n",
       "      <td>17.00</td>\n",
       "      <td>1.00</td>\n",
       "    </tr>\n",
       "    <tr>\n",
       "      <th>478</th>\n",
       "      <td>119500</td>\n",
       "      <td>28.00</td>\n",
       "      <td>0.00</td>\n",
       "      <td>5.00</td>\n",
       "      <td>0.82</td>\n",
       "      <td>17.00</td>\n",
       "      <td>0.71</td>\n",
       "    </tr>\n",
       "    <tr>\n",
       "      <th>479</th>\n",
       "      <td>119750</td>\n",
       "      <td>28.00</td>\n",
       "      <td>0.00</td>\n",
       "      <td>0.00</td>\n",
       "      <td>0.00</td>\n",
       "      <td>17.00</td>\n",
       "      <td>1.00</td>\n",
       "    </tr>\n",
       "  </tbody>\n",
       "</table>\n",
       "<p>480 rows × 7 columns</p>\n",
       "</div>"
      ],
      "text/plain": [
       "     # Columns: time  avg_rss12  var_rss12  avg_rss13  var_rss13  avg_rss23  \\\n",
       "0                  0      32.50       0.50       0.00       0.00      19.00   \n",
       "1                250      32.50       0.50       0.00       0.00      18.50   \n",
       "2                500      32.75       0.43       1.00       0.00      18.00   \n",
       "3                750      32.50       0.50       0.00       0.00      17.50   \n",
       "4               1000      32.50       0.50       7.50       0.50      17.50   \n",
       "..               ...        ...        ...        ...        ...        ...   \n",
       "475           118750      28.67       0.47       4.67       1.25      17.33   \n",
       "476           119000      27.50       0.50       5.50       2.50      17.25   \n",
       "477           119250      28.00       0.00       6.67       0.94      17.00   \n",
       "478           119500      28.00       0.00       5.00       0.82      17.00   \n",
       "479           119750      28.00       0.00       0.00       0.00      17.00   \n",
       "\n",
       "     var_rss23  \n",
       "0         1.00  \n",
       "1         0.50  \n",
       "2         0.00  \n",
       "3         0.50  \n",
       "4         0.87  \n",
       "..         ...  \n",
       "475       0.47  \n",
       "476       1.30  \n",
       "477       1.00  \n",
       "478       0.71  \n",
       "479       1.00  \n",
       "\n",
       "[480 rows x 7 columns]"
      ]
     },
     "execution_count": 21,
     "metadata": {},
     "output_type": "execute_result"
    }
   ],
   "source": [
    "bd4"
   ]
  },
  {
   "cell_type": "code",
   "execution_count": 22,
   "id": "e49dac1f",
   "metadata": {},
   "outputs": [],
   "source": [
    "bend2=bd4"
   ]
  },
  {
   "cell_type": "code",
   "execution_count": 23,
   "id": "e40d31c5",
   "metadata": {},
   "outputs": [],
   "source": [
    "bend2=bend2.append(bend2_list[0:],ignore_index=True)"
   ]
  },
  {
   "cell_type": "code",
   "execution_count": 24,
   "id": "39796427",
   "metadata": {},
   "outputs": [],
   "source": [
    "bending2=bend2"
   ]
  },
  {
   "cell_type": "code",
   "execution_count": 25,
   "id": "966d4a1e",
   "metadata": {},
   "outputs": [],
   "source": [
    "bending2[\"activity\"]=\"Bending2\""
   ]
  },
  {
   "cell_type": "code",
   "execution_count": 26,
   "id": "f1114ed3",
   "metadata": {},
   "outputs": [],
   "source": [
    "bending2[\"activity_num\"]=1"
   ]
  },
  {
   "cell_type": "code",
   "execution_count": 27,
   "id": "2a7a7e14",
   "metadata": {},
   "outputs": [
    {
     "data": {
      "text/html": [
       "<div>\n",
       "<style scoped>\n",
       "    .dataframe tbody tr th:only-of-type {\n",
       "        vertical-align: middle;\n",
       "    }\n",
       "\n",
       "    .dataframe tbody tr th {\n",
       "        vertical-align: top;\n",
       "    }\n",
       "\n",
       "    .dataframe thead th {\n",
       "        text-align: right;\n",
       "    }\n",
       "</style>\n",
       "<table border=\"1\" class=\"dataframe\">\n",
       "  <thead>\n",
       "    <tr style=\"text-align: right;\">\n",
       "      <th></th>\n",
       "      <th># Columns: time</th>\n",
       "      <th>avg_rss12</th>\n",
       "      <th>var_rss12</th>\n",
       "      <th>avg_rss13</th>\n",
       "      <th>var_rss13</th>\n",
       "      <th>avg_rss23</th>\n",
       "      <th>var_rss23</th>\n",
       "      <th>activity</th>\n",
       "      <th>activity_num</th>\n",
       "    </tr>\n",
       "  </thead>\n",
       "  <tbody>\n",
       "    <tr>\n",
       "      <th>0</th>\n",
       "      <td>0</td>\n",
       "      <td>32.50</td>\n",
       "      <td>0.50</td>\n",
       "      <td>0.00</td>\n",
       "      <td>0.00</td>\n",
       "      <td>19.0</td>\n",
       "      <td>1.00</td>\n",
       "      <td>Bending2</td>\n",
       "      <td>1</td>\n",
       "    </tr>\n",
       "    <tr>\n",
       "      <th>1</th>\n",
       "      <td>250</td>\n",
       "      <td>32.50</td>\n",
       "      <td>0.50</td>\n",
       "      <td>0.00</td>\n",
       "      <td>0.00</td>\n",
       "      <td>18.5</td>\n",
       "      <td>0.50</td>\n",
       "      <td>Bending2</td>\n",
       "      <td>1</td>\n",
       "    </tr>\n",
       "    <tr>\n",
       "      <th>2</th>\n",
       "      <td>500</td>\n",
       "      <td>32.75</td>\n",
       "      <td>0.43</td>\n",
       "      <td>1.00</td>\n",
       "      <td>0.00</td>\n",
       "      <td>18.0</td>\n",
       "      <td>0.00</td>\n",
       "      <td>Bending2</td>\n",
       "      <td>1</td>\n",
       "    </tr>\n",
       "    <tr>\n",
       "      <th>3</th>\n",
       "      <td>750</td>\n",
       "      <td>32.50</td>\n",
       "      <td>0.50</td>\n",
       "      <td>0.00</td>\n",
       "      <td>0.00</td>\n",
       "      <td>17.5</td>\n",
       "      <td>0.50</td>\n",
       "      <td>Bending2</td>\n",
       "      <td>1</td>\n",
       "    </tr>\n",
       "    <tr>\n",
       "      <th>4</th>\n",
       "      <td>1000</td>\n",
       "      <td>32.50</td>\n",
       "      <td>0.50</td>\n",
       "      <td>7.50</td>\n",
       "      <td>0.50</td>\n",
       "      <td>17.5</td>\n",
       "      <td>0.87</td>\n",
       "      <td>Bending2</td>\n",
       "      <td>1</td>\n",
       "    </tr>\n",
       "    <tr>\n",
       "      <th>...</th>\n",
       "      <td>...</td>\n",
       "      <td>...</td>\n",
       "      <td>...</td>\n",
       "      <td>...</td>\n",
       "      <td>...</td>\n",
       "      <td>...</td>\n",
       "      <td>...</td>\n",
       "      <td>...</td>\n",
       "      <td>...</td>\n",
       "    </tr>\n",
       "    <tr>\n",
       "      <th>2875</th>\n",
       "      <td>118750</td>\n",
       "      <td>27.00</td>\n",
       "      <td>0.00</td>\n",
       "      <td>14.00</td>\n",
       "      <td>0.00</td>\n",
       "      <td>6.5</td>\n",
       "      <td>0.50</td>\n",
       "      <td>Bending2</td>\n",
       "      <td>1</td>\n",
       "    </tr>\n",
       "    <tr>\n",
       "      <th>2876</th>\n",
       "      <td>119000</td>\n",
       "      <td>27.00</td>\n",
       "      <td>0.00</td>\n",
       "      <td>15.00</td>\n",
       "      <td>0.00</td>\n",
       "      <td>4.0</td>\n",
       "      <td>1.00</td>\n",
       "      <td>Bending2</td>\n",
       "      <td>1</td>\n",
       "    </tr>\n",
       "    <tr>\n",
       "      <th>2877</th>\n",
       "      <td>119250</td>\n",
       "      <td>27.00</td>\n",
       "      <td>0.00</td>\n",
       "      <td>14.25</td>\n",
       "      <td>0.83</td>\n",
       "      <td>4.0</td>\n",
       "      <td>2.00</td>\n",
       "      <td>Bending2</td>\n",
       "      <td>1</td>\n",
       "    </tr>\n",
       "    <tr>\n",
       "      <th>2878</th>\n",
       "      <td>119500</td>\n",
       "      <td>27.00</td>\n",
       "      <td>0.00</td>\n",
       "      <td>13.33</td>\n",
       "      <td>1.25</td>\n",
       "      <td>1.5</td>\n",
       "      <td>0.50</td>\n",
       "      <td>Bending2</td>\n",
       "      <td>1</td>\n",
       "    </tr>\n",
       "    <tr>\n",
       "      <th>2879</th>\n",
       "      <td>119750</td>\n",
       "      <td>26.50</td>\n",
       "      <td>0.50</td>\n",
       "      <td>15.00</td>\n",
       "      <td>0.00</td>\n",
       "      <td>3.0</td>\n",
       "      <td>0.00</td>\n",
       "      <td>Bending2</td>\n",
       "      <td>1</td>\n",
       "    </tr>\n",
       "  </tbody>\n",
       "</table>\n",
       "<p>2880 rows × 9 columns</p>\n",
       "</div>"
      ],
      "text/plain": [
       "      # Columns: time  avg_rss12  var_rss12  avg_rss13  var_rss13  avg_rss23  \\\n",
       "0                   0      32.50       0.50       0.00       0.00       19.0   \n",
       "1                 250      32.50       0.50       0.00       0.00       18.5   \n",
       "2                 500      32.75       0.43       1.00       0.00       18.0   \n",
       "3                 750      32.50       0.50       0.00       0.00       17.5   \n",
       "4                1000      32.50       0.50       7.50       0.50       17.5   \n",
       "...               ...        ...        ...        ...        ...        ...   \n",
       "2875           118750      27.00       0.00      14.00       0.00        6.5   \n",
       "2876           119000      27.00       0.00      15.00       0.00        4.0   \n",
       "2877           119250      27.00       0.00      14.25       0.83        4.0   \n",
       "2878           119500      27.00       0.00      13.33       1.25        1.5   \n",
       "2879           119750      26.50       0.50      15.00       0.00        3.0   \n",
       "\n",
       "      var_rss23  activity  activity_num  \n",
       "0          1.00  Bending2             1  \n",
       "1          0.50  Bending2             1  \n",
       "2          0.00  Bending2             1  \n",
       "3          0.50  Bending2             1  \n",
       "4          0.87  Bending2             1  \n",
       "...         ...       ...           ...  \n",
       "2875       0.50  Bending2             1  \n",
       "2876       1.00  Bending2             1  \n",
       "2877       2.00  Bending2             1  \n",
       "2878       0.50  Bending2             1  \n",
       "2879       0.00  Bending2             1  \n",
       "\n",
       "[2880 rows x 9 columns]"
      ]
     },
     "execution_count": 27,
     "metadata": {},
     "output_type": "execute_result"
    }
   ],
   "source": [
    "bending2"
   ]
  },
  {
   "cell_type": "markdown",
   "id": "b0642ee9",
   "metadata": {},
   "source": [
    "### Cycling, number assigned=2"
   ]
  },
  {
   "cell_type": "code",
   "execution_count": 28,
   "id": "1d91e1e3",
   "metadata": {},
   "outputs": [
    {
     "name": "stdout",
     "output_type": "stream",
     "text": [
      "C:\\Users\\nkeya\\in_ML_class\\activity_recognition\n"
     ]
    }
   ],
   "source": [
    "cd .."
   ]
  },
  {
   "cell_type": "code",
   "execution_count": 29,
   "id": "53a73070",
   "metadata": {},
   "outputs": [
    {
     "name": "stdout",
     "output_type": "stream",
     "text": [
      "C:\\Users\\nkeya\\in_ML_class\\activity_recognition\\cycling\n"
     ]
    }
   ],
   "source": [
    "cd cycling"
   ]
  },
  {
   "cell_type": "code",
   "execution_count": 30,
   "id": "93d910ba",
   "metadata": {
    "scrolled": true
   },
   "outputs": [],
   "source": [
    "# ls"
   ]
  },
  {
   "cell_type": "code",
   "execution_count": 31,
   "id": "d66c1245",
   "metadata": {},
   "outputs": [],
   "source": [
    "cycle_list=[]"
   ]
  },
  {
   "cell_type": "code",
   "execution_count": 32,
   "id": "44a6cd57",
   "metadata": {},
   "outputs": [],
   "source": [
    "for i in range(1,16):\n",
    "    cyl=pd.read_csv(f'dataset{i}.csv',skiprows=4)\n",
    "    cycle_list.append(cyl)"
   ]
  },
  {
   "cell_type": "code",
   "execution_count": 33,
   "id": "e0af36f0",
   "metadata": {},
   "outputs": [],
   "source": [
    "cycle=cycle_list[0]"
   ]
  },
  {
   "cell_type": "code",
   "execution_count": 34,
   "id": "97946578",
   "metadata": {},
   "outputs": [],
   "source": [
    "cycle=cycle.append(cycle_list[1:],ignore_index=True)"
   ]
  },
  {
   "cell_type": "code",
   "execution_count": 35,
   "id": "c434b4c2",
   "metadata": {},
   "outputs": [],
   "source": [
    "cycling=cycle"
   ]
  },
  {
   "cell_type": "code",
   "execution_count": 36,
   "id": "587f1b39",
   "metadata": {},
   "outputs": [],
   "source": [
    "cycling[\"activity\"]=\"Cycling\""
   ]
  },
  {
   "cell_type": "code",
   "execution_count": 37,
   "id": "9f3cf45f",
   "metadata": {},
   "outputs": [],
   "source": [
    "cycling[\"activity_num\"]=2"
   ]
  },
  {
   "cell_type": "code",
   "execution_count": 38,
   "id": "4fd7a681",
   "metadata": {},
   "outputs": [
    {
     "data": {
      "text/html": [
       "<div>\n",
       "<style scoped>\n",
       "    .dataframe tbody tr th:only-of-type {\n",
       "        vertical-align: middle;\n",
       "    }\n",
       "\n",
       "    .dataframe tbody tr th {\n",
       "        vertical-align: top;\n",
       "    }\n",
       "\n",
       "    .dataframe thead th {\n",
       "        text-align: right;\n",
       "    }\n",
       "</style>\n",
       "<table border=\"1\" class=\"dataframe\">\n",
       "  <thead>\n",
       "    <tr style=\"text-align: right;\">\n",
       "      <th></th>\n",
       "      <th># Columns: time</th>\n",
       "      <th>avg_rss12</th>\n",
       "      <th>var_rss12</th>\n",
       "      <th>avg_rss13</th>\n",
       "      <th>var_rss13</th>\n",
       "      <th>avg_rss23</th>\n",
       "      <th>var_rss23</th>\n",
       "      <th>activity</th>\n",
       "      <th>activity_num</th>\n",
       "    </tr>\n",
       "  </thead>\n",
       "  <tbody>\n",
       "    <tr>\n",
       "      <th>0</th>\n",
       "      <td>0</td>\n",
       "      <td>32.00</td>\n",
       "      <td>4.85</td>\n",
       "      <td>17.50</td>\n",
       "      <td>3.35</td>\n",
       "      <td>22.50</td>\n",
       "      <td>3.20</td>\n",
       "      <td>Cycling</td>\n",
       "      <td>2</td>\n",
       "    </tr>\n",
       "    <tr>\n",
       "      <th>1</th>\n",
       "      <td>250</td>\n",
       "      <td>40.50</td>\n",
       "      <td>1.12</td>\n",
       "      <td>14.00</td>\n",
       "      <td>2.24</td>\n",
       "      <td>21.75</td>\n",
       "      <td>1.30</td>\n",
       "      <td>Cycling</td>\n",
       "      <td>2</td>\n",
       "    </tr>\n",
       "    <tr>\n",
       "      <th>2</th>\n",
       "      <td>500</td>\n",
       "      <td>40.50</td>\n",
       "      <td>2.60</td>\n",
       "      <td>11.33</td>\n",
       "      <td>4.50</td>\n",
       "      <td>18.25</td>\n",
       "      <td>5.31</td>\n",
       "      <td>Cycling</td>\n",
       "      <td>2</td>\n",
       "    </tr>\n",
       "    <tr>\n",
       "      <th>3</th>\n",
       "      <td>750</td>\n",
       "      <td>34.50</td>\n",
       "      <td>1.50</td>\n",
       "      <td>20.67</td>\n",
       "      <td>2.87</td>\n",
       "      <td>19.00</td>\n",
       "      <td>2.83</td>\n",
       "      <td>Cycling</td>\n",
       "      <td>2</td>\n",
       "    </tr>\n",
       "    <tr>\n",
       "      <th>4</th>\n",
       "      <td>1000</td>\n",
       "      <td>34.50</td>\n",
       "      <td>1.50</td>\n",
       "      <td>21.25</td>\n",
       "      <td>3.27</td>\n",
       "      <td>18.25</td>\n",
       "      <td>4.38</td>\n",
       "      <td>Cycling</td>\n",
       "      <td>2</td>\n",
       "    </tr>\n",
       "    <tr>\n",
       "      <th>...</th>\n",
       "      <td>...</td>\n",
       "      <td>...</td>\n",
       "      <td>...</td>\n",
       "      <td>...</td>\n",
       "      <td>...</td>\n",
       "      <td>...</td>\n",
       "      <td>...</td>\n",
       "      <td>...</td>\n",
       "      <td>...</td>\n",
       "    </tr>\n",
       "    <tr>\n",
       "      <th>7195</th>\n",
       "      <td>118750</td>\n",
       "      <td>38.00</td>\n",
       "      <td>2.55</td>\n",
       "      <td>18.25</td>\n",
       "      <td>2.17</td>\n",
       "      <td>20.00</td>\n",
       "      <td>4.74</td>\n",
       "      <td>Cycling</td>\n",
       "      <td>2</td>\n",
       "    </tr>\n",
       "    <tr>\n",
       "      <th>7196</th>\n",
       "      <td>119000</td>\n",
       "      <td>36.00</td>\n",
       "      <td>0.00</td>\n",
       "      <td>19.00</td>\n",
       "      <td>1.41</td>\n",
       "      <td>13.67</td>\n",
       "      <td>1.25</td>\n",
       "      <td>Cycling</td>\n",
       "      <td>2</td>\n",
       "    </tr>\n",
       "    <tr>\n",
       "      <th>7197</th>\n",
       "      <td>119250</td>\n",
       "      <td>37.00</td>\n",
       "      <td>1.73</td>\n",
       "      <td>17.75</td>\n",
       "      <td>0.43</td>\n",
       "      <td>22.50</td>\n",
       "      <td>0.87</td>\n",
       "      <td>Cycling</td>\n",
       "      <td>2</td>\n",
       "    </tr>\n",
       "    <tr>\n",
       "      <th>7198</th>\n",
       "      <td>119500</td>\n",
       "      <td>37.00</td>\n",
       "      <td>3.74</td>\n",
       "      <td>19.00</td>\n",
       "      <td>4.18</td>\n",
       "      <td>22.00</td>\n",
       "      <td>1.41</td>\n",
       "      <td>Cycling</td>\n",
       "      <td>2</td>\n",
       "    </tr>\n",
       "    <tr>\n",
       "      <th>7199</th>\n",
       "      <td>119750</td>\n",
       "      <td>38.75</td>\n",
       "      <td>1.92</td>\n",
       "      <td>16.75</td>\n",
       "      <td>3.49</td>\n",
       "      <td>21.00</td>\n",
       "      <td>3.67</td>\n",
       "      <td>Cycling</td>\n",
       "      <td>2</td>\n",
       "    </tr>\n",
       "  </tbody>\n",
       "</table>\n",
       "<p>7200 rows × 9 columns</p>\n",
       "</div>"
      ],
      "text/plain": [
       "      # Columns: time  avg_rss12  var_rss12  avg_rss13  var_rss13  avg_rss23  \\\n",
       "0                   0      32.00       4.85      17.50       3.35      22.50   \n",
       "1                 250      40.50       1.12      14.00       2.24      21.75   \n",
       "2                 500      40.50       2.60      11.33       4.50      18.25   \n",
       "3                 750      34.50       1.50      20.67       2.87      19.00   \n",
       "4                1000      34.50       1.50      21.25       3.27      18.25   \n",
       "...               ...        ...        ...        ...        ...        ...   \n",
       "7195           118750      38.00       2.55      18.25       2.17      20.00   \n",
       "7196           119000      36.00       0.00      19.00       1.41      13.67   \n",
       "7197           119250      37.00       1.73      17.75       0.43      22.50   \n",
       "7198           119500      37.00       3.74      19.00       4.18      22.00   \n",
       "7199           119750      38.75       1.92      16.75       3.49      21.00   \n",
       "\n",
       "      var_rss23 activity  activity_num  \n",
       "0          3.20  Cycling             2  \n",
       "1          1.30  Cycling             2  \n",
       "2          5.31  Cycling             2  \n",
       "3          2.83  Cycling             2  \n",
       "4          4.38  Cycling             2  \n",
       "...         ...      ...           ...  \n",
       "7195       4.74  Cycling             2  \n",
       "7196       1.25  Cycling             2  \n",
       "7197       0.87  Cycling             2  \n",
       "7198       1.41  Cycling             2  \n",
       "7199       3.67  Cycling             2  \n",
       "\n",
       "[7200 rows x 9 columns]"
      ]
     },
     "execution_count": 38,
     "metadata": {},
     "output_type": "execute_result"
    }
   ],
   "source": [
    "cycling"
   ]
  },
  {
   "cell_type": "markdown",
   "id": "47deed54",
   "metadata": {},
   "source": [
    "### Lying, number assigned=3"
   ]
  },
  {
   "cell_type": "code",
   "execution_count": 39,
   "id": "172fa69d",
   "metadata": {},
   "outputs": [
    {
     "name": "stdout",
     "output_type": "stream",
     "text": [
      "C:\\Users\\nkeya\\in_ML_class\\activity_recognition\n"
     ]
    }
   ],
   "source": [
    "cd .."
   ]
  },
  {
   "cell_type": "code",
   "execution_count": 40,
   "id": "a1b07b98",
   "metadata": {},
   "outputs": [
    {
     "name": "stdout",
     "output_type": "stream",
     "text": [
      "C:\\Users\\nkeya\\in_ML_class\\activity_recognition\\lying\n"
     ]
    }
   ],
   "source": [
    "cd lying"
   ]
  },
  {
   "cell_type": "code",
   "execution_count": 41,
   "id": "7c562d60",
   "metadata": {
    "scrolled": true
   },
   "outputs": [],
   "source": [
    "# ls"
   ]
  },
  {
   "cell_type": "code",
   "execution_count": 42,
   "id": "54b26b1a",
   "metadata": {},
   "outputs": [],
   "source": [
    "lye_list=[]"
   ]
  },
  {
   "cell_type": "code",
   "execution_count": 43,
   "id": "03467f32",
   "metadata": {},
   "outputs": [],
   "source": [
    "for i in range(1,16):\n",
    "    lii=pd.read_csv(f'dataset{i}.csv',skiprows=4)\n",
    "    lye_list.append(lii)"
   ]
  },
  {
   "cell_type": "code",
   "execution_count": 44,
   "id": "55f67030",
   "metadata": {},
   "outputs": [],
   "source": [
    "lyee=lye_list[0]"
   ]
  },
  {
   "cell_type": "code",
   "execution_count": 45,
   "id": "7bba0669",
   "metadata": {},
   "outputs": [],
   "source": [
    "lyee=lyee.append(lye_list[1:],ignore_index=True)"
   ]
  },
  {
   "cell_type": "code",
   "execution_count": 46,
   "id": "c5168cd4",
   "metadata": {},
   "outputs": [],
   "source": [
    "lyings=lyee"
   ]
  },
  {
   "cell_type": "code",
   "execution_count": 47,
   "id": "fec1783d",
   "metadata": {},
   "outputs": [],
   "source": [
    "lyings[\"activity\"]=\"Lying\""
   ]
  },
  {
   "cell_type": "code",
   "execution_count": 48,
   "id": "6fd72f7c",
   "metadata": {},
   "outputs": [],
   "source": [
    "lyings[\"activity_num\"]=3"
   ]
  },
  {
   "cell_type": "code",
   "execution_count": 49,
   "id": "c2897871",
   "metadata": {},
   "outputs": [
    {
     "data": {
      "text/html": [
       "<div>\n",
       "<style scoped>\n",
       "    .dataframe tbody tr th:only-of-type {\n",
       "        vertical-align: middle;\n",
       "    }\n",
       "\n",
       "    .dataframe tbody tr th {\n",
       "        vertical-align: top;\n",
       "    }\n",
       "\n",
       "    .dataframe thead th {\n",
       "        text-align: right;\n",
       "    }\n",
       "</style>\n",
       "<table border=\"1\" class=\"dataframe\">\n",
       "  <thead>\n",
       "    <tr style=\"text-align: right;\">\n",
       "      <th></th>\n",
       "      <th># Columns: time</th>\n",
       "      <th>avg_rss12</th>\n",
       "      <th>var_rss12</th>\n",
       "      <th>avg_rss13</th>\n",
       "      <th>var_rss13</th>\n",
       "      <th>avg_rss23</th>\n",
       "      <th>var_rss23</th>\n",
       "      <th>activity</th>\n",
       "      <th>activity_num</th>\n",
       "    </tr>\n",
       "  </thead>\n",
       "  <tbody>\n",
       "    <tr>\n",
       "      <th>0</th>\n",
       "      <td>0</td>\n",
       "      <td>29.00</td>\n",
       "      <td>0.00</td>\n",
       "      <td>9.00</td>\n",
       "      <td>0.71</td>\n",
       "      <td>8.50</td>\n",
       "      <td>0.50</td>\n",
       "      <td>Lying</td>\n",
       "      <td>3</td>\n",
       "    </tr>\n",
       "    <tr>\n",
       "      <th>1</th>\n",
       "      <td>250</td>\n",
       "      <td>29.00</td>\n",
       "      <td>0.00</td>\n",
       "      <td>8.00</td>\n",
       "      <td>0.71</td>\n",
       "      <td>8.50</td>\n",
       "      <td>0.50</td>\n",
       "      <td>Lying</td>\n",
       "      <td>3</td>\n",
       "    </tr>\n",
       "    <tr>\n",
       "      <th>2</th>\n",
       "      <td>500</td>\n",
       "      <td>29.00</td>\n",
       "      <td>0.00</td>\n",
       "      <td>8.00</td>\n",
       "      <td>0.71</td>\n",
       "      <td>8.00</td>\n",
       "      <td>1.00</td>\n",
       "      <td>Lying</td>\n",
       "      <td>3</td>\n",
       "    </tr>\n",
       "    <tr>\n",
       "      <th>3</th>\n",
       "      <td>750</td>\n",
       "      <td>28.50</td>\n",
       "      <td>0.50</td>\n",
       "      <td>8.25</td>\n",
       "      <td>0.43</td>\n",
       "      <td>8.75</td>\n",
       "      <td>0.43</td>\n",
       "      <td>Lying</td>\n",
       "      <td>3</td>\n",
       "    </tr>\n",
       "    <tr>\n",
       "      <th>4</th>\n",
       "      <td>1000</td>\n",
       "      <td>29.00</td>\n",
       "      <td>0.00</td>\n",
       "      <td>8.75</td>\n",
       "      <td>1.09</td>\n",
       "      <td>9.00</td>\n",
       "      <td>0.00</td>\n",
       "      <td>Lying</td>\n",
       "      <td>3</td>\n",
       "    </tr>\n",
       "    <tr>\n",
       "      <th>...</th>\n",
       "      <td>...</td>\n",
       "      <td>...</td>\n",
       "      <td>...</td>\n",
       "      <td>...</td>\n",
       "      <td>...</td>\n",
       "      <td>...</td>\n",
       "      <td>...</td>\n",
       "      <td>...</td>\n",
       "      <td>...</td>\n",
       "    </tr>\n",
       "    <tr>\n",
       "      <th>7195</th>\n",
       "      <td>118750</td>\n",
       "      <td>29.25</td>\n",
       "      <td>0.43</td>\n",
       "      <td>4.00</td>\n",
       "      <td>0.00</td>\n",
       "      <td>10.50</td>\n",
       "      <td>0.50</td>\n",
       "      <td>Lying</td>\n",
       "      <td>3</td>\n",
       "    </tr>\n",
       "    <tr>\n",
       "      <th>7196</th>\n",
       "      <td>119000</td>\n",
       "      <td>29.25</td>\n",
       "      <td>0.43</td>\n",
       "      <td>4.00</td>\n",
       "      <td>0.00</td>\n",
       "      <td>10.25</td>\n",
       "      <td>0.83</td>\n",
       "      <td>Lying</td>\n",
       "      <td>3</td>\n",
       "    </tr>\n",
       "    <tr>\n",
       "      <th>7197</th>\n",
       "      <td>119250</td>\n",
       "      <td>29.50</td>\n",
       "      <td>0.50</td>\n",
       "      <td>2.33</td>\n",
       "      <td>0.94</td>\n",
       "      <td>9.67</td>\n",
       "      <td>0.94</td>\n",
       "      <td>Lying</td>\n",
       "      <td>3</td>\n",
       "    </tr>\n",
       "    <tr>\n",
       "      <th>7198</th>\n",
       "      <td>119500</td>\n",
       "      <td>29.00</td>\n",
       "      <td>0.00</td>\n",
       "      <td>2.67</td>\n",
       "      <td>0.47</td>\n",
       "      <td>10.00</td>\n",
       "      <td>0.82</td>\n",
       "      <td>Lying</td>\n",
       "      <td>3</td>\n",
       "    </tr>\n",
       "    <tr>\n",
       "      <th>7199</th>\n",
       "      <td>119750</td>\n",
       "      <td>29.00</td>\n",
       "      <td>0.00</td>\n",
       "      <td>2.75</td>\n",
       "      <td>0.43</td>\n",
       "      <td>11.00</td>\n",
       "      <td>0.82</td>\n",
       "      <td>Lying</td>\n",
       "      <td>3</td>\n",
       "    </tr>\n",
       "  </tbody>\n",
       "</table>\n",
       "<p>7200 rows × 9 columns</p>\n",
       "</div>"
      ],
      "text/plain": [
       "      # Columns: time  avg_rss12  var_rss12  avg_rss13  var_rss13  avg_rss23  \\\n",
       "0                   0      29.00       0.00       9.00       0.71       8.50   \n",
       "1                 250      29.00       0.00       8.00       0.71       8.50   \n",
       "2                 500      29.00       0.00       8.00       0.71       8.00   \n",
       "3                 750      28.50       0.50       8.25       0.43       8.75   \n",
       "4                1000      29.00       0.00       8.75       1.09       9.00   \n",
       "...               ...        ...        ...        ...        ...        ...   \n",
       "7195           118750      29.25       0.43       4.00       0.00      10.50   \n",
       "7196           119000      29.25       0.43       4.00       0.00      10.25   \n",
       "7197           119250      29.50       0.50       2.33       0.94       9.67   \n",
       "7198           119500      29.00       0.00       2.67       0.47      10.00   \n",
       "7199           119750      29.00       0.00       2.75       0.43      11.00   \n",
       "\n",
       "      var_rss23 activity  activity_num  \n",
       "0          0.50    Lying             3  \n",
       "1          0.50    Lying             3  \n",
       "2          1.00    Lying             3  \n",
       "3          0.43    Lying             3  \n",
       "4          0.00    Lying             3  \n",
       "...         ...      ...           ...  \n",
       "7195       0.50    Lying             3  \n",
       "7196       0.83    Lying             3  \n",
       "7197       0.94    Lying             3  \n",
       "7198       0.82    Lying             3  \n",
       "7199       0.82    Lying             3  \n",
       "\n",
       "[7200 rows x 9 columns]"
      ]
     },
     "execution_count": 49,
     "metadata": {},
     "output_type": "execute_result"
    }
   ],
   "source": [
    "lyings"
   ]
  },
  {
   "cell_type": "markdown",
   "id": "d59b7f87",
   "metadata": {},
   "source": [
    "### Sitting , number assigned=4"
   ]
  },
  {
   "cell_type": "code",
   "execution_count": 50,
   "id": "d8ab323c",
   "metadata": {},
   "outputs": [
    {
     "name": "stdout",
     "output_type": "stream",
     "text": [
      "C:\\Users\\nkeya\\in_ML_class\\activity_recognition\n"
     ]
    }
   ],
   "source": [
    "cd .."
   ]
  },
  {
   "cell_type": "code",
   "execution_count": 51,
   "id": "33124fe1",
   "metadata": {},
   "outputs": [
    {
     "name": "stdout",
     "output_type": "stream",
     "text": [
      "C:\\Users\\nkeya\\in_ML_class\\activity_recognition\\sitting\n"
     ]
    }
   ],
   "source": [
    "cd sitting"
   ]
  },
  {
   "cell_type": "code",
   "execution_count": 52,
   "id": "37354025",
   "metadata": {},
   "outputs": [],
   "source": [
    "# ls"
   ]
  },
  {
   "cell_type": "code",
   "execution_count": 53,
   "id": "8a815652",
   "metadata": {},
   "outputs": [],
   "source": [
    "sit_list=[]"
   ]
  },
  {
   "cell_type": "code",
   "execution_count": 54,
   "id": "055f1e50",
   "metadata": {},
   "outputs": [],
   "source": [
    "for i in range(1,16):\n",
    "    si=pd.read_csv(f'dataset{i}.csv',skiprows=4)\n",
    "    sit_list.append(si)"
   ]
  },
  {
   "cell_type": "code",
   "execution_count": 55,
   "id": "4b3fd109",
   "metadata": {},
   "outputs": [],
   "source": [
    "sitt=sit_list[0]"
   ]
  },
  {
   "cell_type": "code",
   "execution_count": 56,
   "id": "532d538e",
   "metadata": {},
   "outputs": [],
   "source": [
    "sitt=sitt.append(sit_list[1:],ignore_index=True)"
   ]
  },
  {
   "cell_type": "code",
   "execution_count": 57,
   "id": "a0232dc3",
   "metadata": {},
   "outputs": [],
   "source": [
    "sitting=sitt"
   ]
  },
  {
   "cell_type": "code",
   "execution_count": 58,
   "id": "ea97ea98",
   "metadata": {},
   "outputs": [],
   "source": [
    "sitting[\"activity\"]=\"Sitting\""
   ]
  },
  {
   "cell_type": "code",
   "execution_count": 59,
   "id": "13f0c1be",
   "metadata": {},
   "outputs": [],
   "source": [
    "sitting[\"activity_num\"]=4"
   ]
  },
  {
   "cell_type": "code",
   "execution_count": 60,
   "id": "fed2b173",
   "metadata": {},
   "outputs": [
    {
     "data": {
      "text/html": [
       "<div>\n",
       "<style scoped>\n",
       "    .dataframe tbody tr th:only-of-type {\n",
       "        vertical-align: middle;\n",
       "    }\n",
       "\n",
       "    .dataframe tbody tr th {\n",
       "        vertical-align: top;\n",
       "    }\n",
       "\n",
       "    .dataframe thead th {\n",
       "        text-align: right;\n",
       "    }\n",
       "</style>\n",
       "<table border=\"1\" class=\"dataframe\">\n",
       "  <thead>\n",
       "    <tr style=\"text-align: right;\">\n",
       "      <th></th>\n",
       "      <th># Columns: time</th>\n",
       "      <th>avg_rss12</th>\n",
       "      <th>var_rss12</th>\n",
       "      <th>avg_rss13</th>\n",
       "      <th>var_rss13</th>\n",
       "      <th>avg_rss23</th>\n",
       "      <th>var_rss23</th>\n",
       "      <th>activity</th>\n",
       "      <th>activity_num</th>\n",
       "    </tr>\n",
       "  </thead>\n",
       "  <tbody>\n",
       "    <tr>\n",
       "      <th>0</th>\n",
       "      <td>0</td>\n",
       "      <td>42.00</td>\n",
       "      <td>0.00</td>\n",
       "      <td>19.20</td>\n",
       "      <td>0.98</td>\n",
       "      <td>15.50</td>\n",
       "      <td>2.06</td>\n",
       "      <td>Sitting</td>\n",
       "      <td>4</td>\n",
       "    </tr>\n",
       "    <tr>\n",
       "      <th>1</th>\n",
       "      <td>250</td>\n",
       "      <td>42.00</td>\n",
       "      <td>0.00</td>\n",
       "      <td>19.33</td>\n",
       "      <td>0.94</td>\n",
       "      <td>11.00</td>\n",
       "      <td>0.82</td>\n",
       "      <td>Sitting</td>\n",
       "      <td>4</td>\n",
       "    </tr>\n",
       "    <tr>\n",
       "      <th>2</th>\n",
       "      <td>500</td>\n",
       "      <td>42.00</td>\n",
       "      <td>0.00</td>\n",
       "      <td>17.50</td>\n",
       "      <td>0.50</td>\n",
       "      <td>12.50</td>\n",
       "      <td>0.50</td>\n",
       "      <td>Sitting</td>\n",
       "      <td>4</td>\n",
       "    </tr>\n",
       "    <tr>\n",
       "      <th>3</th>\n",
       "      <td>750</td>\n",
       "      <td>42.00</td>\n",
       "      <td>0.00</td>\n",
       "      <td>17.00</td>\n",
       "      <td>1.41</td>\n",
       "      <td>13.33</td>\n",
       "      <td>0.94</td>\n",
       "      <td>Sitting</td>\n",
       "      <td>4</td>\n",
       "    </tr>\n",
       "    <tr>\n",
       "      <th>4</th>\n",
       "      <td>1000</td>\n",
       "      <td>42.00</td>\n",
       "      <td>0.00</td>\n",
       "      <td>17.50</td>\n",
       "      <td>0.87</td>\n",
       "      <td>12.00</td>\n",
       "      <td>0.82</td>\n",
       "      <td>Sitting</td>\n",
       "      <td>4</td>\n",
       "    </tr>\n",
       "    <tr>\n",
       "      <th>...</th>\n",
       "      <td>...</td>\n",
       "      <td>...</td>\n",
       "      <td>...</td>\n",
       "      <td>...</td>\n",
       "      <td>...</td>\n",
       "      <td>...</td>\n",
       "      <td>...</td>\n",
       "      <td>...</td>\n",
       "      <td>...</td>\n",
       "    </tr>\n",
       "    <tr>\n",
       "      <th>7194</th>\n",
       "      <td>118750</td>\n",
       "      <td>41.00</td>\n",
       "      <td>0.82</td>\n",
       "      <td>17.25</td>\n",
       "      <td>1.30</td>\n",
       "      <td>11.00</td>\n",
       "      <td>0.82</td>\n",
       "      <td>Sitting</td>\n",
       "      <td>4</td>\n",
       "    </tr>\n",
       "    <tr>\n",
       "      <th>7195</th>\n",
       "      <td>119000</td>\n",
       "      <td>41.50</td>\n",
       "      <td>0.50</td>\n",
       "      <td>18.00</td>\n",
       "      <td>0.00</td>\n",
       "      <td>10.67</td>\n",
       "      <td>1.25</td>\n",
       "      <td>Sitting</td>\n",
       "      <td>4</td>\n",
       "    </tr>\n",
       "    <tr>\n",
       "      <th>7196</th>\n",
       "      <td>119250</td>\n",
       "      <td>41.33</td>\n",
       "      <td>0.47</td>\n",
       "      <td>18.67</td>\n",
       "      <td>0.47</td>\n",
       "      <td>11.00</td>\n",
       "      <td>1.41</td>\n",
       "      <td>Sitting</td>\n",
       "      <td>4</td>\n",
       "    </tr>\n",
       "    <tr>\n",
       "      <th>7197</th>\n",
       "      <td>119500</td>\n",
       "      <td>41.50</td>\n",
       "      <td>0.50</td>\n",
       "      <td>18.50</td>\n",
       "      <td>0.50</td>\n",
       "      <td>12.33</td>\n",
       "      <td>0.47</td>\n",
       "      <td>Sitting</td>\n",
       "      <td>4</td>\n",
       "    </tr>\n",
       "    <tr>\n",
       "      <th>7198</th>\n",
       "      <td>119750</td>\n",
       "      <td>41.50</td>\n",
       "      <td>0.50</td>\n",
       "      <td>17.00</td>\n",
       "      <td>1.00</td>\n",
       "      <td>13.50</td>\n",
       "      <td>1.12</td>\n",
       "      <td>Sitting</td>\n",
       "      <td>4</td>\n",
       "    </tr>\n",
       "  </tbody>\n",
       "</table>\n",
       "<p>7199 rows × 9 columns</p>\n",
       "</div>"
      ],
      "text/plain": [
       "      # Columns: time  avg_rss12  var_rss12  avg_rss13  var_rss13  avg_rss23  \\\n",
       "0                   0      42.00       0.00      19.20       0.98      15.50   \n",
       "1                 250      42.00       0.00      19.33       0.94      11.00   \n",
       "2                 500      42.00       0.00      17.50       0.50      12.50   \n",
       "3                 750      42.00       0.00      17.00       1.41      13.33   \n",
       "4                1000      42.00       0.00      17.50       0.87      12.00   \n",
       "...               ...        ...        ...        ...        ...        ...   \n",
       "7194           118750      41.00       0.82      17.25       1.30      11.00   \n",
       "7195           119000      41.50       0.50      18.00       0.00      10.67   \n",
       "7196           119250      41.33       0.47      18.67       0.47      11.00   \n",
       "7197           119500      41.50       0.50      18.50       0.50      12.33   \n",
       "7198           119750      41.50       0.50      17.00       1.00      13.50   \n",
       "\n",
       "      var_rss23 activity  activity_num  \n",
       "0          2.06  Sitting             4  \n",
       "1          0.82  Sitting             4  \n",
       "2          0.50  Sitting             4  \n",
       "3          0.94  Sitting             4  \n",
       "4          0.82  Sitting             4  \n",
       "...         ...      ...           ...  \n",
       "7194       0.82  Sitting             4  \n",
       "7195       1.25  Sitting             4  \n",
       "7196       1.41  Sitting             4  \n",
       "7197       0.47  Sitting             4  \n",
       "7198       1.12  Sitting             4  \n",
       "\n",
       "[7199 rows x 9 columns]"
      ]
     },
     "execution_count": 60,
     "metadata": {},
     "output_type": "execute_result"
    }
   ],
   "source": [
    "sitting"
   ]
  },
  {
   "cell_type": "markdown",
   "id": "bc687855",
   "metadata": {},
   "source": [
    "### Standing number assigned=5"
   ]
  },
  {
   "cell_type": "code",
   "execution_count": 61,
   "id": "bc03e62e",
   "metadata": {},
   "outputs": [
    {
     "name": "stdout",
     "output_type": "stream",
     "text": [
      "C:\\Users\\nkeya\\in_ML_class\\activity_recognition\n"
     ]
    }
   ],
   "source": [
    "cd .."
   ]
  },
  {
   "cell_type": "code",
   "execution_count": 62,
   "id": "de4fec34",
   "metadata": {},
   "outputs": [
    {
     "name": "stdout",
     "output_type": "stream",
     "text": [
      "C:\\Users\\nkeya\\in_ML_class\\activity_recognition\\standing\n"
     ]
    }
   ],
   "source": [
    "cd standing"
   ]
  },
  {
   "cell_type": "code",
   "execution_count": 63,
   "id": "3a70a866",
   "metadata": {},
   "outputs": [],
   "source": [
    "stand_list=[]"
   ]
  },
  {
   "cell_type": "code",
   "execution_count": 64,
   "id": "8da6e45d",
   "metadata": {},
   "outputs": [],
   "source": [
    "# ls"
   ]
  },
  {
   "cell_type": "code",
   "execution_count": 65,
   "id": "bce4b98e",
   "metadata": {},
   "outputs": [],
   "source": [
    "for i in range(1,16):\n",
    "    std=pd.read_csv(f'dataset{i}.csv',skiprows=4)\n",
    "    stand_list.append(std)"
   ]
  },
  {
   "cell_type": "code",
   "execution_count": 66,
   "id": "d5df09de",
   "metadata": {},
   "outputs": [],
   "source": [
    "stand=stand_list[0]"
   ]
  },
  {
   "cell_type": "code",
   "execution_count": 67,
   "id": "03df85eb",
   "metadata": {},
   "outputs": [],
   "source": [
    "stand=stand.append(stand_list[1:],ignore_index=True)"
   ]
  },
  {
   "cell_type": "code",
   "execution_count": 68,
   "id": "a6e0865c",
   "metadata": {},
   "outputs": [],
   "source": [
    "standing=stand"
   ]
  },
  {
   "cell_type": "code",
   "execution_count": 69,
   "id": "52005261",
   "metadata": {},
   "outputs": [],
   "source": [
    "standing[\"activity\"]=\"standing\""
   ]
  },
  {
   "cell_type": "code",
   "execution_count": 70,
   "id": "08ffb71f",
   "metadata": {},
   "outputs": [],
   "source": [
    "standing[\"activity_num\"]=5"
   ]
  },
  {
   "cell_type": "code",
   "execution_count": 71,
   "id": "8ec13fd0",
   "metadata": {},
   "outputs": [
    {
     "data": {
      "text/html": [
       "<div>\n",
       "<style scoped>\n",
       "    .dataframe tbody tr th:only-of-type {\n",
       "        vertical-align: middle;\n",
       "    }\n",
       "\n",
       "    .dataframe tbody tr th {\n",
       "        vertical-align: top;\n",
       "    }\n",
       "\n",
       "    .dataframe thead th {\n",
       "        text-align: right;\n",
       "    }\n",
       "</style>\n",
       "<table border=\"1\" class=\"dataframe\">\n",
       "  <thead>\n",
       "    <tr style=\"text-align: right;\">\n",
       "      <th></th>\n",
       "      <th># Columns: time</th>\n",
       "      <th>avg_rss12</th>\n",
       "      <th>var_rss12</th>\n",
       "      <th>avg_rss13</th>\n",
       "      <th>var_rss13</th>\n",
       "      <th>avg_rss23</th>\n",
       "      <th>var_rss23</th>\n",
       "      <th>activity</th>\n",
       "      <th>activity_num</th>\n",
       "    </tr>\n",
       "  </thead>\n",
       "  <tbody>\n",
       "    <tr>\n",
       "      <th>0</th>\n",
       "      <td>0</td>\n",
       "      <td>46.50</td>\n",
       "      <td>0.50</td>\n",
       "      <td>11.50</td>\n",
       "      <td>0.50</td>\n",
       "      <td>20.33</td>\n",
       "      <td>0.94</td>\n",
       "      <td>standing</td>\n",
       "      <td>5</td>\n",
       "    </tr>\n",
       "    <tr>\n",
       "      <th>1</th>\n",
       "      <td>250</td>\n",
       "      <td>46.50</td>\n",
       "      <td>0.50</td>\n",
       "      <td>12.00</td>\n",
       "      <td>0.00</td>\n",
       "      <td>20.25</td>\n",
       "      <td>0.43</td>\n",
       "      <td>standing</td>\n",
       "      <td>5</td>\n",
       "    </tr>\n",
       "    <tr>\n",
       "      <th>2</th>\n",
       "      <td>500</td>\n",
       "      <td>46.50</td>\n",
       "      <td>0.50</td>\n",
       "      <td>12.00</td>\n",
       "      <td>0.00</td>\n",
       "      <td>20.50</td>\n",
       "      <td>0.50</td>\n",
       "      <td>standing</td>\n",
       "      <td>5</td>\n",
       "    </tr>\n",
       "    <tr>\n",
       "      <th>3</th>\n",
       "      <td>750</td>\n",
       "      <td>46.50</td>\n",
       "      <td>0.50</td>\n",
       "      <td>12.75</td>\n",
       "      <td>0.43</td>\n",
       "      <td>19.50</td>\n",
       "      <td>0.50</td>\n",
       "      <td>standing</td>\n",
       "      <td>5</td>\n",
       "    </tr>\n",
       "    <tr>\n",
       "      <th>4</th>\n",
       "      <td>1000</td>\n",
       "      <td>46.50</td>\n",
       "      <td>0.50</td>\n",
       "      <td>13.25</td>\n",
       "      <td>0.43</td>\n",
       "      <td>18.75</td>\n",
       "      <td>0.43</td>\n",
       "      <td>standing</td>\n",
       "      <td>5</td>\n",
       "    </tr>\n",
       "    <tr>\n",
       "      <th>...</th>\n",
       "      <td>...</td>\n",
       "      <td>...</td>\n",
       "      <td>...</td>\n",
       "      <td>...</td>\n",
       "      <td>...</td>\n",
       "      <td>...</td>\n",
       "      <td>...</td>\n",
       "      <td>...</td>\n",
       "      <td>...</td>\n",
       "    </tr>\n",
       "    <tr>\n",
       "      <th>7195</th>\n",
       "      <td>118750</td>\n",
       "      <td>45.25</td>\n",
       "      <td>0.43</td>\n",
       "      <td>12.25</td>\n",
       "      <td>0.43</td>\n",
       "      <td>13.75</td>\n",
       "      <td>0.83</td>\n",
       "      <td>standing</td>\n",
       "      <td>5</td>\n",
       "    </tr>\n",
       "    <tr>\n",
       "      <th>7196</th>\n",
       "      <td>119000</td>\n",
       "      <td>45.00</td>\n",
       "      <td>0.00</td>\n",
       "      <td>12.60</td>\n",
       "      <td>0.80</td>\n",
       "      <td>14.25</td>\n",
       "      <td>0.83</td>\n",
       "      <td>standing</td>\n",
       "      <td>5</td>\n",
       "    </tr>\n",
       "    <tr>\n",
       "      <th>7197</th>\n",
       "      <td>119250</td>\n",
       "      <td>45.00</td>\n",
       "      <td>0.00</td>\n",
       "      <td>12.00</td>\n",
       "      <td>0.00</td>\n",
       "      <td>14.50</td>\n",
       "      <td>0.50</td>\n",
       "      <td>standing</td>\n",
       "      <td>5</td>\n",
       "    </tr>\n",
       "    <tr>\n",
       "      <th>7198</th>\n",
       "      <td>119500</td>\n",
       "      <td>45.50</td>\n",
       "      <td>0.50</td>\n",
       "      <td>12.25</td>\n",
       "      <td>0.43</td>\n",
       "      <td>14.50</td>\n",
       "      <td>0.50</td>\n",
       "      <td>standing</td>\n",
       "      <td>5</td>\n",
       "    </tr>\n",
       "    <tr>\n",
       "      <th>7199</th>\n",
       "      <td>119750</td>\n",
       "      <td>45.00</td>\n",
       "      <td>0.00</td>\n",
       "      <td>12.50</td>\n",
       "      <td>0.87</td>\n",
       "      <td>14.00</td>\n",
       "      <td>0.71</td>\n",
       "      <td>standing</td>\n",
       "      <td>5</td>\n",
       "    </tr>\n",
       "  </tbody>\n",
       "</table>\n",
       "<p>7200 rows × 9 columns</p>\n",
       "</div>"
      ],
      "text/plain": [
       "      # Columns: time  avg_rss12  var_rss12  avg_rss13  var_rss13  avg_rss23  \\\n",
       "0                   0      46.50       0.50      11.50       0.50      20.33   \n",
       "1                 250      46.50       0.50      12.00       0.00      20.25   \n",
       "2                 500      46.50       0.50      12.00       0.00      20.50   \n",
       "3                 750      46.50       0.50      12.75       0.43      19.50   \n",
       "4                1000      46.50       0.50      13.25       0.43      18.75   \n",
       "...               ...        ...        ...        ...        ...        ...   \n",
       "7195           118750      45.25       0.43      12.25       0.43      13.75   \n",
       "7196           119000      45.00       0.00      12.60       0.80      14.25   \n",
       "7197           119250      45.00       0.00      12.00       0.00      14.50   \n",
       "7198           119500      45.50       0.50      12.25       0.43      14.50   \n",
       "7199           119750      45.00       0.00      12.50       0.87      14.00   \n",
       "\n",
       "      var_rss23  activity  activity_num  \n",
       "0          0.94  standing             5  \n",
       "1          0.43  standing             5  \n",
       "2          0.50  standing             5  \n",
       "3          0.50  standing             5  \n",
       "4          0.43  standing             5  \n",
       "...         ...       ...           ...  \n",
       "7195       0.83  standing             5  \n",
       "7196       0.83  standing             5  \n",
       "7197       0.50  standing             5  \n",
       "7198       0.50  standing             5  \n",
       "7199       0.71  standing             5  \n",
       "\n",
       "[7200 rows x 9 columns]"
      ]
     },
     "execution_count": 71,
     "metadata": {},
     "output_type": "execute_result"
    }
   ],
   "source": [
    "standing"
   ]
  },
  {
   "cell_type": "markdown",
   "id": "1b443e5e",
   "metadata": {},
   "source": [
    "### Walking number assigned=6"
   ]
  },
  {
   "cell_type": "code",
   "execution_count": 72,
   "id": "77aedbae",
   "metadata": {},
   "outputs": [
    {
     "name": "stdout",
     "output_type": "stream",
     "text": [
      "C:\\Users\\nkeya\\in_ML_class\\activity_recognition\n"
     ]
    }
   ],
   "source": [
    "cd .."
   ]
  },
  {
   "cell_type": "code",
   "execution_count": 73,
   "id": "21e85f0f",
   "metadata": {},
   "outputs": [
    {
     "name": "stdout",
     "output_type": "stream",
     "text": [
      "C:\\Users\\nkeya\\in_ML_class\\activity_recognition\\walking\n"
     ]
    }
   ],
   "source": [
    "cd walking"
   ]
  },
  {
   "cell_type": "code",
   "execution_count": 74,
   "id": "5fd3f457",
   "metadata": {
    "scrolled": true
   },
   "outputs": [],
   "source": [
    "# ls"
   ]
  },
  {
   "cell_type": "code",
   "execution_count": 75,
   "id": "03aa276d",
   "metadata": {},
   "outputs": [],
   "source": [
    "walk_list=[]"
   ]
  },
  {
   "cell_type": "code",
   "execution_count": 76,
   "id": "eb0888a4",
   "metadata": {},
   "outputs": [],
   "source": [
    "for i in range(1,16):\n",
    "    wal=pd.read_csv(f'dataset{i}.csv',skiprows=4)\n",
    "    walk_list.append(wal)"
   ]
  },
  {
   "cell_type": "code",
   "execution_count": 77,
   "id": "5ccaf93d",
   "metadata": {},
   "outputs": [],
   "source": [
    "walk=walk_list[0]"
   ]
  },
  {
   "cell_type": "code",
   "execution_count": 78,
   "id": "e18dbc4f",
   "metadata": {},
   "outputs": [],
   "source": [
    "walk=walk.append(walk_list[1:],ignore_index=True)"
   ]
  },
  {
   "cell_type": "code",
   "execution_count": 79,
   "id": "8b1b4409",
   "metadata": {},
   "outputs": [],
   "source": [
    "walking=walk"
   ]
  },
  {
   "cell_type": "code",
   "execution_count": 80,
   "id": "4eff0e1d",
   "metadata": {},
   "outputs": [],
   "source": [
    "walking[\"activity\"]=\"Walking\""
   ]
  },
  {
   "cell_type": "code",
   "execution_count": 81,
   "id": "4c9f4331",
   "metadata": {},
   "outputs": [],
   "source": [
    "walking[\"activity_num\"]=6"
   ]
  },
  {
   "cell_type": "code",
   "execution_count": 82,
   "id": "166bd535",
   "metadata": {
    "scrolled": true
   },
   "outputs": [
    {
     "data": {
      "text/html": [
       "<div>\n",
       "<style scoped>\n",
       "    .dataframe tbody tr th:only-of-type {\n",
       "        vertical-align: middle;\n",
       "    }\n",
       "\n",
       "    .dataframe tbody tr th {\n",
       "        vertical-align: top;\n",
       "    }\n",
       "\n",
       "    .dataframe thead th {\n",
       "        text-align: right;\n",
       "    }\n",
       "</style>\n",
       "<table border=\"1\" class=\"dataframe\">\n",
       "  <thead>\n",
       "    <tr style=\"text-align: right;\">\n",
       "      <th></th>\n",
       "      <th># Columns: time</th>\n",
       "      <th>avg_rss12</th>\n",
       "      <th>var_rss12</th>\n",
       "      <th>avg_rss13</th>\n",
       "      <th>var_rss13</th>\n",
       "      <th>avg_rss23</th>\n",
       "      <th>var_rss23</th>\n",
       "      <th>activity</th>\n",
       "      <th>activity_num</th>\n",
       "    </tr>\n",
       "  </thead>\n",
       "  <tbody>\n",
       "    <tr>\n",
       "      <th>0</th>\n",
       "      <td>0</td>\n",
       "      <td>35.00</td>\n",
       "      <td>3.67</td>\n",
       "      <td>16.50</td>\n",
       "      <td>3.77</td>\n",
       "      <td>14.00</td>\n",
       "      <td>1.63</td>\n",
       "      <td>Walking</td>\n",
       "      <td>6</td>\n",
       "    </tr>\n",
       "    <tr>\n",
       "      <th>1</th>\n",
       "      <td>250</td>\n",
       "      <td>28.50</td>\n",
       "      <td>3.35</td>\n",
       "      <td>17.50</td>\n",
       "      <td>3.77</td>\n",
       "      <td>12.25</td>\n",
       "      <td>3.90</td>\n",
       "      <td>Walking</td>\n",
       "      <td>6</td>\n",
       "    </tr>\n",
       "    <tr>\n",
       "      <th>2</th>\n",
       "      <td>500</td>\n",
       "      <td>35.50</td>\n",
       "      <td>2.87</td>\n",
       "      <td>15.75</td>\n",
       "      <td>2.86</td>\n",
       "      <td>17.75</td>\n",
       "      <td>5.07</td>\n",
       "      <td>Walking</td>\n",
       "      <td>6</td>\n",
       "    </tr>\n",
       "    <tr>\n",
       "      <th>3</th>\n",
       "      <td>750</td>\n",
       "      <td>29.75</td>\n",
       "      <td>12.19</td>\n",
       "      <td>16.25</td>\n",
       "      <td>2.17</td>\n",
       "      <td>20.75</td>\n",
       "      <td>2.59</td>\n",
       "      <td>Walking</td>\n",
       "      <td>6</td>\n",
       "    </tr>\n",
       "    <tr>\n",
       "      <th>4</th>\n",
       "      <td>1000</td>\n",
       "      <td>27.00</td>\n",
       "      <td>2.12</td>\n",
       "      <td>16.75</td>\n",
       "      <td>0.83</td>\n",
       "      <td>24.75</td>\n",
       "      <td>1.64</td>\n",
       "      <td>Walking</td>\n",
       "      <td>6</td>\n",
       "    </tr>\n",
       "    <tr>\n",
       "      <th>...</th>\n",
       "      <td>...</td>\n",
       "      <td>...</td>\n",
       "      <td>...</td>\n",
       "      <td>...</td>\n",
       "      <td>...</td>\n",
       "      <td>...</td>\n",
       "      <td>...</td>\n",
       "      <td>...</td>\n",
       "      <td>...</td>\n",
       "    </tr>\n",
       "    <tr>\n",
       "      <th>7195</th>\n",
       "      <td>118750</td>\n",
       "      <td>34.50</td>\n",
       "      <td>6.18</td>\n",
       "      <td>9.00</td>\n",
       "      <td>3.56</td>\n",
       "      <td>12.67</td>\n",
       "      <td>4.19</td>\n",
       "      <td>Walking</td>\n",
       "      <td>6</td>\n",
       "    </tr>\n",
       "    <tr>\n",
       "      <th>7196</th>\n",
       "      <td>119000</td>\n",
       "      <td>25.75</td>\n",
       "      <td>6.02</td>\n",
       "      <td>13.75</td>\n",
       "      <td>2.05</td>\n",
       "      <td>16.00</td>\n",
       "      <td>1.58</td>\n",
       "      <td>Walking</td>\n",
       "      <td>6</td>\n",
       "    </tr>\n",
       "    <tr>\n",
       "      <th>7197</th>\n",
       "      <td>119250</td>\n",
       "      <td>31.50</td>\n",
       "      <td>3.35</td>\n",
       "      <td>10.25</td>\n",
       "      <td>5.12</td>\n",
       "      <td>16.25</td>\n",
       "      <td>2.95</td>\n",
       "      <td>Walking</td>\n",
       "      <td>6</td>\n",
       "    </tr>\n",
       "    <tr>\n",
       "      <th>7198</th>\n",
       "      <td>119500</td>\n",
       "      <td>33.75</td>\n",
       "      <td>2.77</td>\n",
       "      <td>14.00</td>\n",
       "      <td>3.24</td>\n",
       "      <td>13.75</td>\n",
       "      <td>0.43</td>\n",
       "      <td>Walking</td>\n",
       "      <td>6</td>\n",
       "    </tr>\n",
       "    <tr>\n",
       "      <th>7199</th>\n",
       "      <td>119750</td>\n",
       "      <td>37.00</td>\n",
       "      <td>1.41</td>\n",
       "      <td>18.25</td>\n",
       "      <td>3.70</td>\n",
       "      <td>11.00</td>\n",
       "      <td>4.32</td>\n",
       "      <td>Walking</td>\n",
       "      <td>6</td>\n",
       "    </tr>\n",
       "  </tbody>\n",
       "</table>\n",
       "<p>7200 rows × 9 columns</p>\n",
       "</div>"
      ],
      "text/plain": [
       "      # Columns: time  avg_rss12  var_rss12  avg_rss13  var_rss13  avg_rss23  \\\n",
       "0                   0      35.00       3.67      16.50       3.77      14.00   \n",
       "1                 250      28.50       3.35      17.50       3.77      12.25   \n",
       "2                 500      35.50       2.87      15.75       2.86      17.75   \n",
       "3                 750      29.75      12.19      16.25       2.17      20.75   \n",
       "4                1000      27.00       2.12      16.75       0.83      24.75   \n",
       "...               ...        ...        ...        ...        ...        ...   \n",
       "7195           118750      34.50       6.18       9.00       3.56      12.67   \n",
       "7196           119000      25.75       6.02      13.75       2.05      16.00   \n",
       "7197           119250      31.50       3.35      10.25       5.12      16.25   \n",
       "7198           119500      33.75       2.77      14.00       3.24      13.75   \n",
       "7199           119750      37.00       1.41      18.25       3.70      11.00   \n",
       "\n",
       "      var_rss23 activity  activity_num  \n",
       "0          1.63  Walking             6  \n",
       "1          3.90  Walking             6  \n",
       "2          5.07  Walking             6  \n",
       "3          2.59  Walking             6  \n",
       "4          1.64  Walking             6  \n",
       "...         ...      ...           ...  \n",
       "7195       4.19  Walking             6  \n",
       "7196       1.58  Walking             6  \n",
       "7197       2.95  Walking             6  \n",
       "7198       0.43  Walking             6  \n",
       "7199       4.32  Walking             6  \n",
       "\n",
       "[7200 rows x 9 columns]"
      ]
     },
     "execution_count": 82,
     "metadata": {},
     "output_type": "execute_result"
    }
   ],
   "source": [
    "walking"
   ]
  },
  {
   "cell_type": "markdown",
   "id": "26dd985d",
   "metadata": {},
   "source": [
    "## Appending all the data for activities together"
   ]
  },
  {
   "cell_type": "code",
   "execution_count": 83,
   "id": "f9b1bf3f",
   "metadata": {},
   "outputs": [],
   "source": [
    "final_data=bending1"
   ]
  },
  {
   "cell_type": "code",
   "execution_count": 84,
   "id": "4bb5cc58",
   "metadata": {},
   "outputs": [],
   "source": [
    "append_list=[bending2,cycling,lyings,sitting,standing,walking]"
   ]
  },
  {
   "cell_type": "code",
   "execution_count": 85,
   "id": "d37e4167",
   "metadata": {},
   "outputs": [],
   "source": [
    "final_data=final_data.append(append_list,ignore_index=True)"
   ]
  },
  {
   "cell_type": "code",
   "execution_count": 86,
   "id": "d6155220",
   "metadata": {},
   "outputs": [
    {
     "data": {
      "text/html": [
       "<div>\n",
       "<style scoped>\n",
       "    .dataframe tbody tr th:only-of-type {\n",
       "        vertical-align: middle;\n",
       "    }\n",
       "\n",
       "    .dataframe tbody tr th {\n",
       "        vertical-align: top;\n",
       "    }\n",
       "\n",
       "    .dataframe thead th {\n",
       "        text-align: right;\n",
       "    }\n",
       "</style>\n",
       "<table border=\"1\" class=\"dataframe\">\n",
       "  <thead>\n",
       "    <tr style=\"text-align: right;\">\n",
       "      <th></th>\n",
       "      <th># Columns: time</th>\n",
       "      <th>avg_rss12</th>\n",
       "      <th>var_rss12</th>\n",
       "      <th>avg_rss13</th>\n",
       "      <th>var_rss13</th>\n",
       "      <th>avg_rss23</th>\n",
       "      <th>var_rss23</th>\n",
       "      <th>activity</th>\n",
       "      <th>activity_num</th>\n",
       "    </tr>\n",
       "  </thead>\n",
       "  <tbody>\n",
       "    <tr>\n",
       "      <th>0</th>\n",
       "      <td>0</td>\n",
       "      <td>39.25</td>\n",
       "      <td>0.43</td>\n",
       "      <td>22.75</td>\n",
       "      <td>0.43</td>\n",
       "      <td>33.75</td>\n",
       "      <td>1.30</td>\n",
       "      <td>Bending1</td>\n",
       "      <td>0</td>\n",
       "    </tr>\n",
       "    <tr>\n",
       "      <th>1</th>\n",
       "      <td>250</td>\n",
       "      <td>39.25</td>\n",
       "      <td>0.43</td>\n",
       "      <td>23.00</td>\n",
       "      <td>0.00</td>\n",
       "      <td>33.00</td>\n",
       "      <td>0.00</td>\n",
       "      <td>Bending1</td>\n",
       "      <td>0</td>\n",
       "    </tr>\n",
       "    <tr>\n",
       "      <th>2</th>\n",
       "      <td>500</td>\n",
       "      <td>39.25</td>\n",
       "      <td>0.43</td>\n",
       "      <td>23.25</td>\n",
       "      <td>0.43</td>\n",
       "      <td>33.00</td>\n",
       "      <td>0.00</td>\n",
       "      <td>Bending1</td>\n",
       "      <td>0</td>\n",
       "    </tr>\n",
       "    <tr>\n",
       "      <th>3</th>\n",
       "      <td>750</td>\n",
       "      <td>39.50</td>\n",
       "      <td>0.50</td>\n",
       "      <td>23.00</td>\n",
       "      <td>0.71</td>\n",
       "      <td>33.00</td>\n",
       "      <td>0.00</td>\n",
       "      <td>Bending1</td>\n",
       "      <td>0</td>\n",
       "    </tr>\n",
       "    <tr>\n",
       "      <th>4</th>\n",
       "      <td>1000</td>\n",
       "      <td>39.50</td>\n",
       "      <td>0.50</td>\n",
       "      <td>24.00</td>\n",
       "      <td>0.00</td>\n",
       "      <td>33.00</td>\n",
       "      <td>0.00</td>\n",
       "      <td>Bending1</td>\n",
       "      <td>0</td>\n",
       "    </tr>\n",
       "    <tr>\n",
       "      <th>...</th>\n",
       "      <td>...</td>\n",
       "      <td>...</td>\n",
       "      <td>...</td>\n",
       "      <td>...</td>\n",
       "      <td>...</td>\n",
       "      <td>...</td>\n",
       "      <td>...</td>\n",
       "      <td>...</td>\n",
       "      <td>...</td>\n",
       "    </tr>\n",
       "    <tr>\n",
       "      <th>42234</th>\n",
       "      <td>118750</td>\n",
       "      <td>34.50</td>\n",
       "      <td>6.18</td>\n",
       "      <td>9.00</td>\n",
       "      <td>3.56</td>\n",
       "      <td>12.67</td>\n",
       "      <td>4.19</td>\n",
       "      <td>Walking</td>\n",
       "      <td>6</td>\n",
       "    </tr>\n",
       "    <tr>\n",
       "      <th>42235</th>\n",
       "      <td>119000</td>\n",
       "      <td>25.75</td>\n",
       "      <td>6.02</td>\n",
       "      <td>13.75</td>\n",
       "      <td>2.05</td>\n",
       "      <td>16.00</td>\n",
       "      <td>1.58</td>\n",
       "      <td>Walking</td>\n",
       "      <td>6</td>\n",
       "    </tr>\n",
       "    <tr>\n",
       "      <th>42236</th>\n",
       "      <td>119250</td>\n",
       "      <td>31.50</td>\n",
       "      <td>3.35</td>\n",
       "      <td>10.25</td>\n",
       "      <td>5.12</td>\n",
       "      <td>16.25</td>\n",
       "      <td>2.95</td>\n",
       "      <td>Walking</td>\n",
       "      <td>6</td>\n",
       "    </tr>\n",
       "    <tr>\n",
       "      <th>42237</th>\n",
       "      <td>119500</td>\n",
       "      <td>33.75</td>\n",
       "      <td>2.77</td>\n",
       "      <td>14.00</td>\n",
       "      <td>3.24</td>\n",
       "      <td>13.75</td>\n",
       "      <td>0.43</td>\n",
       "      <td>Walking</td>\n",
       "      <td>6</td>\n",
       "    </tr>\n",
       "    <tr>\n",
       "      <th>42238</th>\n",
       "      <td>119750</td>\n",
       "      <td>37.00</td>\n",
       "      <td>1.41</td>\n",
       "      <td>18.25</td>\n",
       "      <td>3.70</td>\n",
       "      <td>11.00</td>\n",
       "      <td>4.32</td>\n",
       "      <td>Walking</td>\n",
       "      <td>6</td>\n",
       "    </tr>\n",
       "  </tbody>\n",
       "</table>\n",
       "<p>42239 rows × 9 columns</p>\n",
       "</div>"
      ],
      "text/plain": [
       "       # Columns: time  avg_rss12  var_rss12  avg_rss13  var_rss13  avg_rss23  \\\n",
       "0                    0      39.25       0.43      22.75       0.43      33.75   \n",
       "1                  250      39.25       0.43      23.00       0.00      33.00   \n",
       "2                  500      39.25       0.43      23.25       0.43      33.00   \n",
       "3                  750      39.50       0.50      23.00       0.71      33.00   \n",
       "4                 1000      39.50       0.50      24.00       0.00      33.00   \n",
       "...                ...        ...        ...        ...        ...        ...   \n",
       "42234           118750      34.50       6.18       9.00       3.56      12.67   \n",
       "42235           119000      25.75       6.02      13.75       2.05      16.00   \n",
       "42236           119250      31.50       3.35      10.25       5.12      16.25   \n",
       "42237           119500      33.75       2.77      14.00       3.24      13.75   \n",
       "42238           119750      37.00       1.41      18.25       3.70      11.00   \n",
       "\n",
       "       var_rss23  activity  activity_num  \n",
       "0           1.30  Bending1             0  \n",
       "1           0.00  Bending1             0  \n",
       "2           0.00  Bending1             0  \n",
       "3           0.00  Bending1             0  \n",
       "4           0.00  Bending1             0  \n",
       "...          ...       ...           ...  \n",
       "42234       4.19   Walking             6  \n",
       "42235       1.58   Walking             6  \n",
       "42236       2.95   Walking             6  \n",
       "42237       0.43   Walking             6  \n",
       "42238       4.32   Walking             6  \n",
       "\n",
       "[42239 rows x 9 columns]"
      ]
     },
     "execution_count": 86,
     "metadata": {},
     "output_type": "execute_result"
    }
   ],
   "source": [
    "final_data"
   ]
  },
  {
   "cell_type": "code",
   "execution_count": 87,
   "id": "125b2fc0",
   "metadata": {},
   "outputs": [
    {
     "data": {
      "text/plain": [
       "Index(['# Columns: time', 'avg_rss12', 'var_rss12', 'avg_rss13', 'var_rss13',\n",
       "       'avg_rss23', 'var_rss23', 'activity', 'activity_num'],\n",
       "      dtype='object')"
      ]
     },
     "execution_count": 87,
     "metadata": {},
     "output_type": "execute_result"
    }
   ],
   "source": [
    "final_data.columns"
   ]
  },
  {
   "cell_type": "code",
   "execution_count": 88,
   "id": "a306263a",
   "metadata": {},
   "outputs": [],
   "source": [
    "final_data.rename(columns={'# Columns: time':'Time_series'},inplace=True)"
   ]
  },
  {
   "cell_type": "code",
   "execution_count": 89,
   "id": "b5262bac",
   "metadata": {},
   "outputs": [],
   "source": [
    "f_edit=final_data.drop(['Time_series'],axis=1)"
   ]
  },
  {
   "cell_type": "code",
   "execution_count": 90,
   "id": "c89a386a",
   "metadata": {},
   "outputs": [
    {
     "data": {
      "text/html": [
       "<div>\n",
       "<style scoped>\n",
       "    .dataframe tbody tr th:only-of-type {\n",
       "        vertical-align: middle;\n",
       "    }\n",
       "\n",
       "    .dataframe tbody tr th {\n",
       "        vertical-align: top;\n",
       "    }\n",
       "\n",
       "    .dataframe thead th {\n",
       "        text-align: right;\n",
       "    }\n",
       "</style>\n",
       "<table border=\"1\" class=\"dataframe\">\n",
       "  <thead>\n",
       "    <tr style=\"text-align: right;\">\n",
       "      <th></th>\n",
       "      <th>avg_rss12</th>\n",
       "      <th>var_rss12</th>\n",
       "      <th>avg_rss13</th>\n",
       "      <th>var_rss13</th>\n",
       "      <th>avg_rss23</th>\n",
       "      <th>var_rss23</th>\n",
       "      <th>activity_num</th>\n",
       "    </tr>\n",
       "  </thead>\n",
       "  <tbody>\n",
       "    <tr>\n",
       "      <th>count</th>\n",
       "      <td>42239.000000</td>\n",
       "      <td>42239.000000</td>\n",
       "      <td>42239.000000</td>\n",
       "      <td>42239.000000</td>\n",
       "      <td>42239.000000</td>\n",
       "      <td>42239.000000</td>\n",
       "      <td>42239.000000</td>\n",
       "    </tr>\n",
       "    <tr>\n",
       "      <th>mean</th>\n",
       "      <td>38.917264</td>\n",
       "      <td>1.459145</td>\n",
       "      <td>14.278160</td>\n",
       "      <td>1.502241</td>\n",
       "      <td>16.035170</td>\n",
       "      <td>1.620705</td>\n",
       "      <td>3.477260</td>\n",
       "    </tr>\n",
       "    <tr>\n",
       "      <th>std</th>\n",
       "      <td>6.337280</td>\n",
       "      <td>2.047973</td>\n",
       "      <td>5.435483</td>\n",
       "      <td>1.639519</td>\n",
       "      <td>6.736022</td>\n",
       "      <td>1.637070</td>\n",
       "      <td>1.821487</td>\n",
       "    </tr>\n",
       "    <tr>\n",
       "      <th>min</th>\n",
       "      <td>0.000000</td>\n",
       "      <td>0.000000</td>\n",
       "      <td>0.000000</td>\n",
       "      <td>0.000000</td>\n",
       "      <td>0.000000</td>\n",
       "      <td>0.000000</td>\n",
       "      <td>0.000000</td>\n",
       "    </tr>\n",
       "    <tr>\n",
       "      <th>25%</th>\n",
       "      <td>35.000000</td>\n",
       "      <td>0.400000</td>\n",
       "      <td>11.330000</td>\n",
       "      <td>0.430000</td>\n",
       "      <td>12.000000</td>\n",
       "      <td>0.470000</td>\n",
       "      <td>2.000000</td>\n",
       "    </tr>\n",
       "    <tr>\n",
       "      <th>50%</th>\n",
       "      <td>39.750000</td>\n",
       "      <td>0.500000</td>\n",
       "      <td>15.000000</td>\n",
       "      <td>0.830000</td>\n",
       "      <td>16.000000</td>\n",
       "      <td>1.000000</td>\n",
       "      <td>4.000000</td>\n",
       "    </tr>\n",
       "    <tr>\n",
       "      <th>75%</th>\n",
       "      <td>43.750000</td>\n",
       "      <td>1.790000</td>\n",
       "      <td>18.000000</td>\n",
       "      <td>2.290000</td>\n",
       "      <td>19.250000</td>\n",
       "      <td>2.290000</td>\n",
       "      <td>5.000000</td>\n",
       "    </tr>\n",
       "    <tr>\n",
       "      <th>max</th>\n",
       "      <td>56.250000</td>\n",
       "      <td>17.240000</td>\n",
       "      <td>35.000000</td>\n",
       "      <td>11.420000</td>\n",
       "      <td>40.330000</td>\n",
       "      <td>13.610000</td>\n",
       "      <td>6.000000</td>\n",
       "    </tr>\n",
       "  </tbody>\n",
       "</table>\n",
       "</div>"
      ],
      "text/plain": [
       "          avg_rss12     var_rss12     avg_rss13     var_rss13     avg_rss23  \\\n",
       "count  42239.000000  42239.000000  42239.000000  42239.000000  42239.000000   \n",
       "mean      38.917264      1.459145     14.278160      1.502241     16.035170   \n",
       "std        6.337280      2.047973      5.435483      1.639519      6.736022   \n",
       "min        0.000000      0.000000      0.000000      0.000000      0.000000   \n",
       "25%       35.000000      0.400000     11.330000      0.430000     12.000000   \n",
       "50%       39.750000      0.500000     15.000000      0.830000     16.000000   \n",
       "75%       43.750000      1.790000     18.000000      2.290000     19.250000   \n",
       "max       56.250000     17.240000     35.000000     11.420000     40.330000   \n",
       "\n",
       "          var_rss23  activity_num  \n",
       "count  42239.000000  42239.000000  \n",
       "mean       1.620705      3.477260  \n",
       "std        1.637070      1.821487  \n",
       "min        0.000000      0.000000  \n",
       "25%        0.470000      2.000000  \n",
       "50%        1.000000      4.000000  \n",
       "75%        2.290000      5.000000  \n",
       "max       13.610000      6.000000  "
      ]
     },
     "execution_count": 90,
     "metadata": {},
     "output_type": "execute_result"
    }
   ],
   "source": [
    "f_edit.describe()"
   ]
  },
  {
   "cell_type": "code",
   "execution_count": 91,
   "id": "6d331045",
   "metadata": {
    "scrolled": true
   },
   "outputs": [],
   "source": [
    "# ProfileReport(f_edit)"
   ]
  },
  {
   "cell_type": "code",
   "execution_count": 92,
   "id": "e79988e0",
   "metadata": {
    "scrolled": false
   },
   "outputs": [
    {
     "data": {
      "text/plain": [
       "<AxesSubplot:>"
      ]
     },
     "execution_count": 92,
     "metadata": {},
     "output_type": "execute_result"
    },
    {
     "data": {
      "image/png": "[encoded data removed]",
      "text/plain": [
       "<Figure size 1440x1440 with 1 Axes>"
      ]
     },
     "metadata": {
      "needs_background": "light"
     },
     "output_type": "display_data"
    }
   ],
   "source": [
    "fig,ax=plt.subplots(figsize=(20,20))\n",
    "sns.boxplot(data=f_edit,ax=ax)"
   ]
  },
  {
   "cell_type": "markdown",
   "id": "4fdc5ed1",
   "metadata": {},
   "source": [
    "### Removing outliers"
   ]
  },
  {
   "cell_type": "code",
   "execution_count": 93,
   "id": "18b932f9",
   "metadata": {},
   "outputs": [
    {
     "data": {
      "text/plain": [
       "Index(['avg_rss12', 'var_rss12', 'avg_rss13', 'var_rss13', 'avg_rss23',\n",
       "       'var_rss23', 'activity', 'activity_num'],\n",
       "      dtype='object')"
      ]
     },
     "execution_count": 93,
     "metadata": {},
     "output_type": "execute_result"
    }
   ],
   "source": [
    "f_edit.columns"
   ]
  },
  {
   "cell_type": "code",
   "execution_count": 94,
   "id": "9f7e7187",
   "metadata": {},
   "outputs": [],
   "source": [
    "q=f_edit['avg_rss23'].quantile(0.95)\n",
    "f1_edit=f_edit[f_edit['avg_rss23']<q]"
   ]
  },
  {
   "cell_type": "code",
   "execution_count": 95,
   "id": "f1ea24dc",
   "metadata": {},
   "outputs": [],
   "source": [
    "q=f_edit['avg_rss12'].quantile(0.01)\n",
    "f1_edit=f1_edit[f1_edit['avg_rss12']>q]"
   ]
  },
  {
   "cell_type": "code",
   "execution_count": 96,
   "id": "38defaac",
   "metadata": {},
   "outputs": [],
   "source": [
    "# q=f_edit['var_rss12'].quantile(0.95)\n",
    "# f1_edit=f1_edit[f1_edit['var_rss12']<q]"
   ]
  },
  {
   "cell_type": "code",
   "execution_count": 97,
   "id": "3352497b",
   "metadata": {
    "scrolled": true
   },
   "outputs": [
    {
     "data": {
      "text/html": [
       "<div>\n",
       "<style scoped>\n",
       "    .dataframe tbody tr th:only-of-type {\n",
       "        vertical-align: middle;\n",
       "    }\n",
       "\n",
       "    .dataframe tbody tr th {\n",
       "        vertical-align: top;\n",
       "    }\n",
       "\n",
       "    .dataframe thead th {\n",
       "        text-align: right;\n",
       "    }\n",
       "</style>\n",
       "<table border=\"1\" class=\"dataframe\">\n",
       "  <thead>\n",
       "    <tr style=\"text-align: right;\">\n",
       "      <th></th>\n",
       "      <th>avg_rss12</th>\n",
       "      <th>var_rss12</th>\n",
       "      <th>avg_rss13</th>\n",
       "      <th>var_rss13</th>\n",
       "      <th>avg_rss23</th>\n",
       "      <th>var_rss23</th>\n",
       "      <th>activity</th>\n",
       "      <th>activity_num</th>\n",
       "    </tr>\n",
       "  </thead>\n",
       "  <tbody>\n",
       "    <tr>\n",
       "      <th>406</th>\n",
       "      <td>42.75</td>\n",
       "      <td>1.30</td>\n",
       "      <td>23.75</td>\n",
       "      <td>1.48</td>\n",
       "      <td>29.75</td>\n",
       "      <td>0.43</td>\n",
       "      <td>Bending1</td>\n",
       "      <td>0</td>\n",
       "    </tr>\n",
       "    <tr>\n",
       "      <th>407</th>\n",
       "      <td>42.00</td>\n",
       "      <td>0.00</td>\n",
       "      <td>21.67</td>\n",
       "      <td>0.47</td>\n",
       "      <td>29.67</td>\n",
       "      <td>0.47</td>\n",
       "      <td>Bending1</td>\n",
       "      <td>0</td>\n",
       "    </tr>\n",
       "    <tr>\n",
       "      <th>409</th>\n",
       "      <td>42.00</td>\n",
       "      <td>0.00</td>\n",
       "      <td>24.00</td>\n",
       "      <td>0.00</td>\n",
       "      <td>29.75</td>\n",
       "      <td>0.43</td>\n",
       "      <td>Bending1</td>\n",
       "      <td>0</td>\n",
       "    </tr>\n",
       "    <tr>\n",
       "      <th>410</th>\n",
       "      <td>42.00</td>\n",
       "      <td>0.00</td>\n",
       "      <td>22.50</td>\n",
       "      <td>0.50</td>\n",
       "      <td>29.75</td>\n",
       "      <td>0.43</td>\n",
       "      <td>Bending1</td>\n",
       "      <td>0</td>\n",
       "    </tr>\n",
       "    <tr>\n",
       "      <th>412</th>\n",
       "      <td>42.00</td>\n",
       "      <td>0.00</td>\n",
       "      <td>22.50</td>\n",
       "      <td>1.12</td>\n",
       "      <td>29.75</td>\n",
       "      <td>0.43</td>\n",
       "      <td>Bending1</td>\n",
       "      <td>0</td>\n",
       "    </tr>\n",
       "    <tr>\n",
       "      <th>...</th>\n",
       "      <td>...</td>\n",
       "      <td>...</td>\n",
       "      <td>...</td>\n",
       "      <td>...</td>\n",
       "      <td>...</td>\n",
       "      <td>...</td>\n",
       "      <td>...</td>\n",
       "      <td>...</td>\n",
       "    </tr>\n",
       "    <tr>\n",
       "      <th>42234</th>\n",
       "      <td>34.50</td>\n",
       "      <td>6.18</td>\n",
       "      <td>9.00</td>\n",
       "      <td>3.56</td>\n",
       "      <td>12.67</td>\n",
       "      <td>4.19</td>\n",
       "      <td>Walking</td>\n",
       "      <td>6</td>\n",
       "    </tr>\n",
       "    <tr>\n",
       "      <th>42235</th>\n",
       "      <td>25.75</td>\n",
       "      <td>6.02</td>\n",
       "      <td>13.75</td>\n",
       "      <td>2.05</td>\n",
       "      <td>16.00</td>\n",
       "      <td>1.58</td>\n",
       "      <td>Walking</td>\n",
       "      <td>6</td>\n",
       "    </tr>\n",
       "    <tr>\n",
       "      <th>42236</th>\n",
       "      <td>31.50</td>\n",
       "      <td>3.35</td>\n",
       "      <td>10.25</td>\n",
       "      <td>5.12</td>\n",
       "      <td>16.25</td>\n",
       "      <td>2.95</td>\n",
       "      <td>Walking</td>\n",
       "      <td>6</td>\n",
       "    </tr>\n",
       "    <tr>\n",
       "      <th>42237</th>\n",
       "      <td>33.75</td>\n",
       "      <td>2.77</td>\n",
       "      <td>14.00</td>\n",
       "      <td>3.24</td>\n",
       "      <td>13.75</td>\n",
       "      <td>0.43</td>\n",
       "      <td>Walking</td>\n",
       "      <td>6</td>\n",
       "    </tr>\n",
       "    <tr>\n",
       "      <th>42238</th>\n",
       "      <td>37.00</td>\n",
       "      <td>1.41</td>\n",
       "      <td>18.25</td>\n",
       "      <td>3.70</td>\n",
       "      <td>11.00</td>\n",
       "      <td>4.32</td>\n",
       "      <td>Walking</td>\n",
       "      <td>6</td>\n",
       "    </tr>\n",
       "  </tbody>\n",
       "</table>\n",
       "<p>39597 rows × 8 columns</p>\n",
       "</div>"
      ],
      "text/plain": [
       "       avg_rss12  var_rss12  avg_rss13  var_rss13  avg_rss23  var_rss23  \\\n",
       "406        42.75       1.30      23.75       1.48      29.75       0.43   \n",
       "407        42.00       0.00      21.67       0.47      29.67       0.47   \n",
       "409        42.00       0.00      24.00       0.00      29.75       0.43   \n",
       "410        42.00       0.00      22.50       0.50      29.75       0.43   \n",
       "412        42.00       0.00      22.50       1.12      29.75       0.43   \n",
       "...          ...        ...        ...        ...        ...        ...   \n",
       "42234      34.50       6.18       9.00       3.56      12.67       4.19   \n",
       "42235      25.75       6.02      13.75       2.05      16.00       1.58   \n",
       "42236      31.50       3.35      10.25       5.12      16.25       2.95   \n",
       "42237      33.75       2.77      14.00       3.24      13.75       0.43   \n",
       "42238      37.00       1.41      18.25       3.70      11.00       4.32   \n",
       "\n",
       "       activity  activity_num  \n",
       "406    Bending1             0  \n",
       "407    Bending1             0  \n",
       "409    Bending1             0  \n",
       "410    Bending1             0  \n",
       "412    Bending1             0  \n",
       "...         ...           ...  \n",
       "42234   Walking             6  \n",
       "42235   Walking             6  \n",
       "42236   Walking             6  \n",
       "42237   Walking             6  \n",
       "42238   Walking             6  \n",
       "\n",
       "[39597 rows x 8 columns]"
      ]
     },
     "execution_count": 97,
     "metadata": {},
     "output_type": "execute_result"
    }
   ],
   "source": [
    "f1_edit"
   ]
  },
  {
   "cell_type": "code",
   "execution_count": 98,
   "id": "e9438300",
   "metadata": {},
   "outputs": [
    {
     "data": {
      "text/plain": [
       "<AxesSubplot:>"
      ]
     },
     "execution_count": 98,
     "metadata": {},
     "output_type": "execute_result"
    },
    {
     "data": {
      "image/png": "[encoded data removed]",
      "text/plain": [
       "<Figure size 1440x1440 with 1 Axes>"
      ]
     },
     "metadata": {
      "needs_background": "light"
     },
     "output_type": "display_data"
    }
   ],
   "source": [
    "fig,ax=plt.subplots(figsize=(20,20))\n",
    "sns.boxplot(data=f1_edit,ax=ax)"
   ]
  },
  {
   "cell_type": "code",
   "execution_count": 99,
   "id": "239baee3",
   "metadata": {},
   "outputs": [],
   "source": [
    "# ProfileReport(f1_edit)"
   ]
  },
  {
   "cell_type": "code",
   "execution_count": 100,
   "id": "81d455ae",
   "metadata": {},
   "outputs": [],
   "source": [
    "x=f1_edit.drop([\"activity\",\"activity_num\"],axis=1)"
   ]
  },
  {
   "cell_type": "code",
   "execution_count": 101,
   "id": "d2b06cfc",
   "metadata": {},
   "outputs": [],
   "source": [
    "y=f1_edit['activity_num']"
   ]
  },
  {
   "cell_type": "code",
   "execution_count": 102,
   "id": "198e6db5",
   "metadata": {},
   "outputs": [],
   "source": [
    "scaler=StandardScaler()"
   ]
  },
  {
   "cell_type": "code",
   "execution_count": 103,
   "id": "e66d7de1",
   "metadata": {},
   "outputs": [],
   "source": [
    "x_scaled=scaler.fit_transform(x)"
   ]
  },
  {
   "cell_type": "code",
   "execution_count": 104,
   "id": "311a6fc8",
   "metadata": {},
   "outputs": [],
   "source": [
    "x_train,x_test,y_train,y_test=train_test_split(x_scaled,y,test_size=.2,random_state=42)"
   ]
  },
  {
   "cell_type": "markdown",
   "id": "8b3ede58",
   "metadata": {},
   "source": [
    "### checking vif "
   ]
  },
  {
   "cell_type": "code",
   "execution_count": 105,
   "id": "5985d17e",
   "metadata": {},
   "outputs": [],
   "source": [
    "def vif_score(x):\n",
    "    scaler = StandardScaler()\n",
    "    arr = scaler.fit_transform(x)\n",
    "    return pd.DataFrame([[x.columns[i], variance_inflation_factor(arr,i)] for i in range(arr.shape[1])], columns=[\"FEATURE\", \"VIF_SCORE\"])"
   ]
  },
  {
   "cell_type": "code",
   "execution_count": 106,
   "id": "3932cb5f",
   "metadata": {},
   "outputs": [
    {
     "data": {
      "text/html": [
       "<div>\n",
       "<style scoped>\n",
       "    .dataframe tbody tr th:only-of-type {\n",
       "        vertical-align: middle;\n",
       "    }\n",
       "\n",
       "    .dataframe tbody tr th {\n",
       "        vertical-align: top;\n",
       "    }\n",
       "\n",
       "    .dataframe thead th {\n",
       "        text-align: right;\n",
       "    }\n",
       "</style>\n",
       "<table border=\"1\" class=\"dataframe\">\n",
       "  <thead>\n",
       "    <tr style=\"text-align: right;\">\n",
       "      <th></th>\n",
       "      <th>FEATURE</th>\n",
       "      <th>VIF_SCORE</th>\n",
       "    </tr>\n",
       "  </thead>\n",
       "  <tbody>\n",
       "    <tr>\n",
       "      <th>0</th>\n",
       "      <td>avg_rss12</td>\n",
       "      <td>1.202452</td>\n",
       "    </tr>\n",
       "    <tr>\n",
       "      <th>1</th>\n",
       "      <td>var_rss12</td>\n",
       "      <td>1.747673</td>\n",
       "    </tr>\n",
       "    <tr>\n",
       "      <th>2</th>\n",
       "      <td>avg_rss13</td>\n",
       "      <td>1.251060</td>\n",
       "    </tr>\n",
       "    <tr>\n",
       "      <th>3</th>\n",
       "      <td>var_rss13</td>\n",
       "      <td>1.680107</td>\n",
       "    </tr>\n",
       "    <tr>\n",
       "      <th>4</th>\n",
       "      <td>avg_rss23</td>\n",
       "      <td>1.219331</td>\n",
       "    </tr>\n",
       "    <tr>\n",
       "      <th>5</th>\n",
       "      <td>var_rss23</td>\n",
       "      <td>1.686591</td>\n",
       "    </tr>\n",
       "  </tbody>\n",
       "</table>\n",
       "</div>"
      ],
      "text/plain": [
       "     FEATURE  VIF_SCORE\n",
       "0  avg_rss12   1.202452\n",
       "1  var_rss12   1.747673\n",
       "2  avg_rss13   1.251060\n",
       "3  var_rss13   1.680107\n",
       "4  avg_rss23   1.219331\n",
       "5  var_rss23   1.686591"
      ]
     },
     "execution_count": 106,
     "metadata": {},
     "output_type": "execute_result"
    }
   ],
   "source": [
    "vif_score(x)"
   ]
  },
  {
   "cell_type": "code",
   "execution_count": 107,
   "id": "f022439f",
   "metadata": {},
   "outputs": [
    {
     "data": {
      "text/plain": [
       "<AxesSubplot:>"
      ]
     },
     "execution_count": 107,
     "metadata": {},
     "output_type": "execute_result"
    },
    {
     "data": {
      "image/png": "[encoded data removed]",
      "text/plain": [
       "<Figure size 1440x1440 with 1 Axes>"
      ]
     },
     "metadata": {
      "needs_background": "light"
     },
     "output_type": "display_data"
    }
   ],
   "source": [
    "fig,ax=plt.subplots(figsize=(20,20))\n",
    "sns.boxplot(data=x_scaled,ax=ax)"
   ]
  },
  {
   "cell_type": "markdown",
   "id": "25a58658",
   "metadata": {},
   "source": [
    "### Model training and prediction"
   ]
  },
  {
   "cell_type": "markdown",
   "id": "038b9436",
   "metadata": {},
   "source": [
    "###  lbfgs solver"
   ]
  },
  {
   "cell_type": "code",
   "execution_count": 108,
   "id": "7e3e6694",
   "metadata": {},
   "outputs": [],
   "source": [
    "logi=LogisticRegression(multi_class=\"auto\",solver=\"lbfgs\",n_jobs=-1,max_iter=150,random_state=2)"
   ]
  },
  {
   "cell_type": "code",
   "execution_count": 109,
   "id": "517a0a36",
   "metadata": {},
   "outputs": [
    {
     "data": {
      "text/plain": [
       "LogisticRegression(max_iter=150, n_jobs=-1, random_state=2)"
      ]
     },
     "execution_count": 109,
     "metadata": {},
     "output_type": "execute_result"
    }
   ],
   "source": [
    "logi.fit(x_train,y_train)"
   ]
  },
  {
   "cell_type": "code",
   "execution_count": 110,
   "id": "b63d85f2",
   "metadata": {},
   "outputs": [],
   "source": [
    "y_pred=logi.predict(x_test)"
   ]
  },
  {
   "cell_type": "code",
   "execution_count": 111,
   "id": "0b78c899",
   "metadata": {},
   "outputs": [
    {
     "data": {
      "text/plain": [
       "0.6611111111111111"
      ]
     },
     "execution_count": 111,
     "metadata": {},
     "output_type": "execute_result"
    }
   ],
   "source": [
    "accuracy_score(y_test,y_pred)"
   ]
  },
  {
   "cell_type": "code",
   "execution_count": 112,
   "id": "16dd6860",
   "metadata": {},
   "outputs": [
    {
     "data": {
      "text/plain": [
       "array([[ 153,    1,   10,    0,  102,    2,    0],\n",
       "       [  23,  348,   38,   51,   45,    0,    8],\n",
       "       [   1,   15,  925,    1,   82,   16,  407],\n",
       "       [   0,   46,    3, 1170,   21,  112,    3],\n",
       "       [  48,   76,   42,  190,  757,  322,    8],\n",
       "       [   4,    0,   20,  145,  385,  918,    6],\n",
       "       [   0,   16,  427,    0,    8,    0,  965]], dtype=int64)"
      ]
     },
     "execution_count": 112,
     "metadata": {},
     "output_type": "execute_result"
    }
   ],
   "source": [
    "confusion_matrix(y_test,y_pred)"
   ]
  },
  {
   "cell_type": "markdown",
   "id": "5b201188",
   "metadata": {},
   "source": [
    "### newton-cg solver"
   ]
  },
  {
   "cell_type": "code",
   "execution_count": 113,
   "id": "a7559a41",
   "metadata": {},
   "outputs": [],
   "source": [
    "logit1=LogisticRegression(solver=\"newton-cg\",multi_class=\"multinomial\",n_jobs=-1,random_state=2,max_iter=150)"
   ]
  },
  {
   "cell_type": "code",
   "execution_count": 114,
   "id": "12738a4f",
   "metadata": {},
   "outputs": [
    {
     "data": {
      "text/plain": [
       "LogisticRegression(max_iter=150, multi_class='multinomial', n_jobs=-1,\n",
       "                   random_state=2, solver='newton-cg')"
      ]
     },
     "execution_count": 114,
     "metadata": {},
     "output_type": "execute_result"
    }
   ],
   "source": [
    "logit1.fit(x_train,y_train)"
   ]
  },
  {
   "cell_type": "code",
   "execution_count": 115,
   "id": "89e0ab02",
   "metadata": {},
   "outputs": [],
   "source": [
    "y_pred=logit1.predict(x_test)"
   ]
  },
  {
   "cell_type": "code",
   "execution_count": 116,
   "id": "356efaa9",
   "metadata": {},
   "outputs": [
    {
     "data": {
      "text/plain": [
       "0.6611111111111111"
      ]
     },
     "execution_count": 116,
     "metadata": {},
     "output_type": "execute_result"
    }
   ],
   "source": [
    "accuracy_score(y_test,y_pred)"
   ]
  },
  {
   "cell_type": "code",
   "execution_count": 117,
   "id": "3297712f",
   "metadata": {},
   "outputs": [
    {
     "data": {
      "text/plain": [
       "array([[ 153,    1,   10,    0,  102,    2,    0],\n",
       "       [  23,  348,   38,   51,   45,    0,    8],\n",
       "       [   1,   15,  925,    1,   82,   16,  407],\n",
       "       [   0,   46,    3, 1170,   21,  112,    3],\n",
       "       [  48,   76,   42,  190,  757,  322,    8],\n",
       "       [   4,    0,   20,  145,  385,  918,    6],\n",
       "       [   0,   16,  427,    0,    8,    0,  965]], dtype=int64)"
      ]
     },
     "execution_count": 117,
     "metadata": {},
     "output_type": "execute_result"
    }
   ],
   "source": [
    "confusion_matrix(y_test,y_pred)"
   ]
  },
  {
   "cell_type": "markdown",
   "id": "1b3baca0",
   "metadata": {},
   "source": [
    "### SAG solver"
   ]
  },
  {
   "cell_type": "code",
   "execution_count": 118,
   "id": "49bf7063",
   "metadata": {},
   "outputs": [],
   "source": [
    "logit2=LogisticRegression(solver=\"sag\",multi_class=\"auto\",n_jobs=-1,random_state=2,max_iter=125)"
   ]
  },
  {
   "cell_type": "code",
   "execution_count": 119,
   "id": "95c8f271",
   "metadata": {},
   "outputs": [
    {
     "data": {
      "text/plain": [
       "LogisticRegression(max_iter=125, n_jobs=-1, random_state=2, solver='sag')"
      ]
     },
     "execution_count": 119,
     "metadata": {},
     "output_type": "execute_result"
    }
   ],
   "source": [
    "logit2.fit(x_train,y_train)"
   ]
  },
  {
   "cell_type": "code",
   "execution_count": 120,
   "id": "a246f96a",
   "metadata": {},
   "outputs": [],
   "source": [
    "y_pred=logit2.predict(x_test)"
   ]
  },
  {
   "cell_type": "code",
   "execution_count": 121,
   "id": "67526efa",
   "metadata": {},
   "outputs": [
    {
     "data": {
      "text/plain": [
       "0.6609848484848485"
      ]
     },
     "execution_count": 121,
     "metadata": {},
     "output_type": "execute_result"
    }
   ],
   "source": [
    "accuracy_score(y_test,y_pred)"
   ]
  },
  {
   "cell_type": "code",
   "execution_count": 122,
   "id": "b1633ef2",
   "metadata": {},
   "outputs": [
    {
     "data": {
      "text/plain": [
       "array([[ 153,    1,   10,    0,  102,    2,    0],\n",
       "       [  23,  348,   38,   51,   45,    0,    8],\n",
       "       [   1,   15,  924,    1,   82,   16,  408],\n",
       "       [   0,   46,    2, 1170,   21,  112,    4],\n",
       "       [  48,   76,   42,  190,  757,  322,    8],\n",
       "       [   4,    0,   20,  145,  385,  918,    6],\n",
       "       [   0,   16,  427,    0,    8,    0,  965]], dtype=int64)"
      ]
     },
     "execution_count": 122,
     "metadata": {},
     "output_type": "execute_result"
    }
   ],
   "source": [
    "confusion_matrix(y_test,y_pred)"
   ]
  },
  {
   "cell_type": "markdown",
   "id": "d981e239",
   "metadata": {},
   "source": [
    "### SAGA solver"
   ]
  },
  {
   "cell_type": "code",
   "execution_count": 123,
   "id": "a0092756",
   "metadata": {},
   "outputs": [],
   "source": [
    "logit3=LogisticRegression(solver=\"saga\",multi_class=\"multinomial\",n_jobs=-1,random_state=25,max_iter=125)"
   ]
  },
  {
   "cell_type": "code",
   "execution_count": 124,
   "id": "1e4bcba1",
   "metadata": {},
   "outputs": [
    {
     "data": {
      "text/plain": [
       "LogisticRegression(max_iter=125, multi_class='multinomial', n_jobs=-1,\n",
       "                   random_state=25, solver='saga')"
      ]
     },
     "execution_count": 124,
     "metadata": {},
     "output_type": "execute_result"
    }
   ],
   "source": [
    "logit3.fit(x_train,y_train)"
   ]
  },
  {
   "cell_type": "code",
   "execution_count": 125,
   "id": "2c0a557c",
   "metadata": {},
   "outputs": [],
   "source": [
    "y_pred=logit3.predict(x_test)"
   ]
  },
  {
   "cell_type": "code",
   "execution_count": 126,
   "id": "d5da4b43",
   "metadata": {},
   "outputs": [
    {
     "data": {
      "text/plain": [
       "0.6609848484848485"
      ]
     },
     "execution_count": 126,
     "metadata": {},
     "output_type": "execute_result"
    }
   ],
   "source": [
    "accuracy_score(y_test,y_pred)"
   ]
  },
  {
   "cell_type": "code",
   "execution_count": 127,
   "id": "fd295bc0",
   "metadata": {},
   "outputs": [
    {
     "data": {
      "text/plain": [
       "array([[ 153,    1,   10,    0,  102,    2,    0],\n",
       "       [  23,  348,   38,   51,   45,    0,    8],\n",
       "       [   1,   15,  924,    1,   83,   15,  408],\n",
       "       [   0,   46,    2, 1170,   21,  112,    4],\n",
       "       [  48,   76,   42,  190,  757,  322,    8],\n",
       "       [   4,    0,   20,  145,  385,  918,    6],\n",
       "       [   0,   16,  427,    0,    8,    0,  965]], dtype=int64)"
      ]
     },
     "execution_count": 127,
     "metadata": {},
     "output_type": "execute_result"
    }
   ],
   "source": [
    "confusion_matrix(y_test,y_pred)"
   ]
  },
  {
   "cell_type": "markdown",
   "id": "885383be",
   "metadata": {},
   "source": [
    "### sag solver with class_weight=balanced."
   ]
  },
  {
   "cell_type": "code",
   "execution_count": 128,
   "id": "524df13b",
   "metadata": {},
   "outputs": [],
   "source": [
    "logit4=LogisticRegression(multi_class=\"auto\",solver=\"sag\",n_jobs=-1,max_iter=150,random_state=24,class_weight=\"balanced\")"
   ]
  },
  {
   "cell_type": "code",
   "execution_count": 129,
   "id": "41c575ed",
   "metadata": {},
   "outputs": [
    {
     "data": {
      "text/plain": [
       "LogisticRegression(class_weight='balanced', max_iter=150, n_jobs=-1,\n",
       "                   random_state=24, solver='sag')"
      ]
     },
     "execution_count": 129,
     "metadata": {},
     "output_type": "execute_result"
    }
   ],
   "source": [
    "logit4.fit(x_train,y_train)"
   ]
  },
  {
   "cell_type": "code",
   "execution_count": 130,
   "id": "36454baf",
   "metadata": {},
   "outputs": [],
   "source": [
    "y_pred=logit4.predict(x_test)"
   ]
  },
  {
   "cell_type": "code",
   "execution_count": 131,
   "id": "c44895b0",
   "metadata": {},
   "outputs": [
    {
     "data": {
      "text/plain": [
       "0.6392676767676768"
      ]
     },
     "execution_count": 131,
     "metadata": {},
     "output_type": "execute_result"
    }
   ],
   "source": [
    "accuracy_score(y_test,y_pred)"
   ]
  },
  {
   "cell_type": "markdown",
   "id": "f805508e",
   "metadata": {},
   "source": [
    "### lbgfs solver with class_weight=balanced"
   ]
  },
  {
   "cell_type": "code",
   "execution_count": 132,
   "id": "04644067",
   "metadata": {},
   "outputs": [],
   "source": [
    "logit5=LogisticRegression(multi_class=\"auto\",solver=\"lbfgs\",n_jobs=-1,max_iter=150,random_state=24,class_weight=\"balanced\")"
   ]
  },
  {
   "cell_type": "code",
   "execution_count": 133,
   "id": "0b01bb88",
   "metadata": {},
   "outputs": [
    {
     "data": {
      "text/plain": [
       "LogisticRegression(class_weight='balanced', max_iter=150, n_jobs=-1,\n",
       "                   random_state=24)"
      ]
     },
     "execution_count": 133,
     "metadata": {},
     "output_type": "execute_result"
    }
   ],
   "source": [
    "logit5.fit(x_train,y_train)"
   ]
  },
  {
   "cell_type": "code",
   "execution_count": 134,
   "id": "8bebddc0",
   "metadata": {},
   "outputs": [],
   "source": [
    "y_pred=logit5.predict(x_test)"
   ]
  },
  {
   "cell_type": "code",
   "execution_count": 135,
   "id": "b12d5c27",
   "metadata": {},
   "outputs": [
    {
     "data": {
      "text/plain": [
       "0.6392676767676768"
      ]
     },
     "execution_count": 135,
     "metadata": {},
     "output_type": "execute_result"
    }
   ],
   "source": [
    "accuracy_score(y_test,y_pred)"
   ]
  },
  {
   "cell_type": "markdown",
   "id": "d20b20c6",
   "metadata": {},
   "source": [
    "## Naive bayes"
   ]
  },
  {
   "cell_type": "code",
   "execution_count": 136,
   "id": "967a1c50",
   "metadata": {},
   "outputs": [],
   "source": [
    "from sklearn.naive_bayes import GaussianNB"
   ]
  },
  {
   "cell_type": "code",
   "execution_count": 137,
   "id": "77e60cd7",
   "metadata": {},
   "outputs": [],
   "source": [
    "gnb=GaussianNB()"
   ]
  },
  {
   "cell_type": "code",
   "execution_count": 138,
   "id": "df63db53",
   "metadata": {},
   "outputs": [
    {
     "data": {
      "text/plain": [
       "GaussianNB()"
      ]
     },
     "execution_count": 138,
     "metadata": {},
     "output_type": "execute_result"
    }
   ],
   "source": [
    "gnb.fit(x_train,y_train)"
   ]
  },
  {
   "cell_type": "code",
   "execution_count": 139,
   "id": "35476197",
   "metadata": {},
   "outputs": [],
   "source": [
    "y_pred=gnb.predict(x_test)"
   ]
  },
  {
   "cell_type": "code",
   "execution_count": 140,
   "id": "50c32132",
   "metadata": {},
   "outputs": [
    {
     "data": {
      "text/plain": [
       "0.6449494949494949"
      ]
     },
     "execution_count": 140,
     "metadata": {},
     "output_type": "execute_result"
    }
   ],
   "source": [
    "accuracy_score(y_test,y_pred)"
   ]
  },
  {
   "cell_type": "markdown",
   "id": "d8306f5f",
   "metadata": {},
   "source": [
    "## Knn"
   ]
  },
  {
   "cell_type": "code",
   "execution_count": 141,
   "id": "0583cd0c",
   "metadata": {},
   "outputs": [],
   "source": [
    "from sklearn.neighbors import KNeighborsClassifier"
   ]
  },
  {
   "cell_type": "code",
   "execution_count": 142,
   "id": "9b10cc35",
   "metadata": {},
   "outputs": [],
   "source": [
    "knn= KNeighborsClassifier()"
   ]
  },
  {
   "cell_type": "code",
   "execution_count": 143,
   "id": "d2826211",
   "metadata": {},
   "outputs": [
    {
     "data": {
      "text/plain": [
       "KNeighborsClassifier()"
      ]
     },
     "execution_count": 143,
     "metadata": {},
     "output_type": "execute_result"
    }
   ],
   "source": [
    "knn.fit(x_train,y_train)"
   ]
  },
  {
   "cell_type": "code",
   "execution_count": 144,
   "id": "5684b8ca",
   "metadata": {},
   "outputs": [],
   "source": [
    "y_pred=knn.predict(x_test)"
   ]
  },
  {
   "cell_type": "code",
   "execution_count": 145,
   "id": "a1f31481",
   "metadata": {},
   "outputs": [
    {
     "data": {
      "text/plain": [
       "0.7396464646464647"
      ]
     },
     "execution_count": 145,
     "metadata": {},
     "output_type": "execute_result"
    }
   ],
   "source": [
    "accuracy_score(y_test,y_pred)"
   ]
  },
  {
   "cell_type": "code",
   "execution_count": null,
   "id": "b70422bb",
   "metadata": {},
   "outputs": [],
   "source": []
  },
  {
   "cell_type": "code",
   "execution_count": 146,
   "id": "b70fade1",
   "metadata": {},
   "outputs": [],
   "source": [
    "knn2= KNeighborsClassifier(n_neighbors=17,p=1,n_jobs=-1,algorithm='kd_tree')"
   ]
  },
  {
   "cell_type": "code",
   "execution_count": 147,
   "id": "4b8000f7",
   "metadata": {},
   "outputs": [
    {
     "data": {
      "text/plain": [
       "KNeighborsClassifier(algorithm='kd_tree', n_jobs=-1, n_neighbors=17, p=1)"
      ]
     },
     "execution_count": 147,
     "metadata": {},
     "output_type": "execute_result"
    }
   ],
   "source": [
    "knn2.fit(x_train,y_train)"
   ]
  },
  {
   "cell_type": "code",
   "execution_count": 148,
   "id": "206decab",
   "metadata": {},
   "outputs": [],
   "source": [
    "y_pred=knn2.predict(x_test)"
   ]
  },
  {
   "cell_type": "code",
   "execution_count": 149,
   "id": "977bb952",
   "metadata": {},
   "outputs": [
    {
     "data": {
      "text/plain": [
       "0.7473484848484848"
      ]
     },
     "execution_count": 149,
     "metadata": {},
     "output_type": "execute_result"
    }
   ],
   "source": [
    "accuracy_score(y_test,y_pred)"
   ]
  },
  {
   "cell_type": "markdown",
   "id": "a68b84f7",
   "metadata": {},
   "source": []
  },
  {
   "cell_type": "code",
   "execution_count": 150,
   "id": "087897e8",
   "metadata": {},
   "outputs": [
    {
     "data": {
      "text/plain": [
       "LogisticRegression(max_iter=150, multi_class='multinomial', n_jobs=-1,\n",
       "                   random_state=2, solver='newton-cg')"
      ]
     },
     "execution_count": 150,
     "metadata": {},
     "output_type": "execute_result"
    }
   ],
   "source": [
    "logit1"
   ]
  },
  {
   "cell_type": "markdown",
   "id": "6bf0f03b",
   "metadata": {},
   "source": [
    "## Decision tree"
   ]
  },
  {
   "cell_type": "code",
   "execution_count": 153,
   "id": "371032e6",
   "metadata": {},
   "outputs": [],
   "source": [
    "from sklearn.tree import DecisionTreeClassifier"
   ]
  },
  {
   "cell_type": "code",
   "execution_count": 154,
   "id": "f38b8694",
   "metadata": {},
   "outputs": [],
   "source": [
    "dt=DecisionTreeClassifier(random_state=42)"
   ]
  },
  {
   "cell_type": "code",
   "execution_count": 155,
   "id": "dc795a72",
   "metadata": {},
   "outputs": [
    {
     "data": {
      "text/plain": [
       "DecisionTreeClassifier(random_state=42)"
      ]
     },
     "execution_count": 155,
     "metadata": {},
     "output_type": "execute_result"
    }
   ],
   "source": [
    "dt.fit(x_train,y_train)"
   ]
  },
  {
   "cell_type": "code",
   "execution_count": 156,
   "id": "e5661dd9",
   "metadata": {},
   "outputs": [],
   "source": [
    "y_pred=dt.predict(x_test)"
   ]
  },
  {
   "cell_type": "code",
   "execution_count": 157,
   "id": "7e38681e",
   "metadata": {},
   "outputs": [
    {
     "data": {
      "text/plain": [
       "0.726010101010101"
      ]
     },
     "execution_count": 157,
     "metadata": {},
     "output_type": "execute_result"
    }
   ],
   "source": [
    "accuracy_score(y_test,y_pred)"
   ]
  },
  {
   "cell_type": "code",
   "execution_count": 158,
   "id": "8a8f899d",
   "metadata": {},
   "outputs": [],
   "source": [
    "dt1=DecisionTreeClassifier(random_state=42,criterion='entropy',splitter='best',min_samples_leaf=10,min_samples_split=10,ccp_alpha=.0001)"
   ]
  },
  {
   "cell_type": "code",
   "execution_count": 159,
   "id": "681dd303",
   "metadata": {},
   "outputs": [
    {
     "data": {
      "text/plain": [
       "DecisionTreeClassifier(ccp_alpha=0.0001, criterion='entropy',\n",
       "                       min_samples_leaf=10, min_samples_split=10,\n",
       "                       random_state=42)"
      ]
     },
     "execution_count": 159,
     "metadata": {},
     "output_type": "execute_result"
    }
   ],
   "source": [
    "dt1.fit(x_train,y_train)"
   ]
  },
  {
   "cell_type": "code",
   "execution_count": 160,
   "id": "5d820947",
   "metadata": {},
   "outputs": [],
   "source": [
    "y_pred=dt1.predict(x_test)"
   ]
  },
  {
   "cell_type": "code",
   "execution_count": 161,
   "id": "17140cb4",
   "metadata": {},
   "outputs": [
    {
     "data": {
      "text/plain": [
       "0.744570707070707"
      ]
     },
     "execution_count": 161,
     "metadata": {},
     "output_type": "execute_result"
    }
   ],
   "source": [
    "accuracy_score(y_test,y_pred)"
   ]
  },
  {
   "cell_type": "code",
   "execution_count": null,
   "id": "737b095f",
   "metadata": {},
   "outputs": [],
   "source": []
  },
  {
   "cell_type": "markdown",
   "id": "9a50783f",
   "metadata": {},
   "source": [
    "## Random Forest"
   ]
  },
  {
   "cell_type": "code",
   "execution_count": 162,
   "id": "8a2cb069",
   "metadata": {},
   "outputs": [],
   "source": [
    "from sklearn.ensemble import RandomForestClassifier"
   ]
  },
  {
   "cell_type": "code",
   "execution_count": 163,
   "id": "1de4efaf",
   "metadata": {},
   "outputs": [],
   "source": [
    "rf=RandomForestClassifier()"
   ]
  },
  {
   "cell_type": "code",
   "execution_count": 164,
   "id": "32871c4c",
   "metadata": {},
   "outputs": [
    {
     "data": {
      "text/plain": [
       "RandomForestClassifier()"
      ]
     },
     "execution_count": 164,
     "metadata": {},
     "output_type": "execute_result"
    }
   ],
   "source": [
    "rf.fit(x_train,y_train)"
   ]
  },
  {
   "cell_type": "code",
   "execution_count": 165,
   "id": "5e1797df",
   "metadata": {},
   "outputs": [],
   "source": [
    "y_pred=rf.predict(x_test)"
   ]
  },
  {
   "cell_type": "code",
   "execution_count": 166,
   "id": "f99837e1",
   "metadata": {},
   "outputs": [
    {
     "data": {
      "text/plain": [
       "0.782070707070707"
      ]
     },
     "execution_count": 166,
     "metadata": {},
     "output_type": "execute_result"
    }
   ],
   "source": [
    "accuracy_score(y_test,y_pred)"
   ]
  },
  {
   "cell_type": "code",
   "execution_count": 167,
   "id": "ebbb9224",
   "metadata": {},
   "outputs": [],
   "source": [
    "rf1=RandomForestClassifier(n_estimators=180,random_state=42,criterion='gini',ccp_alpha=.0001)"
   ]
  },
  {
   "cell_type": "code",
   "execution_count": 168,
   "id": "a7a97b5e",
   "metadata": {},
   "outputs": [
    {
     "data": {
      "text/plain": [
       "RandomForestClassifier(ccp_alpha=0.0001, n_estimators=180, random_state=42)"
      ]
     },
     "execution_count": 168,
     "metadata": {},
     "output_type": "execute_result"
    }
   ],
   "source": [
    "rf1.fit(x_train,y_train)"
   ]
  },
  {
   "cell_type": "code",
   "execution_count": 169,
   "id": "1577f4fb",
   "metadata": {},
   "outputs": [],
   "source": [
    "y_pred=rf1.predict(x_test)"
   ]
  },
  {
   "cell_type": "code",
   "execution_count": 170,
   "id": "d802e4c7",
   "metadata": {},
   "outputs": [
    {
     "data": {
      "text/plain": [
       "0.785479797979798"
      ]
     },
     "execution_count": 170,
     "metadata": {},
     "output_type": "execute_result"
    }
   ],
   "source": [
    "accuracy_score(y_test,y_pred)"
   ]
  },
  {
   "cell_type": "markdown",
   "id": "9d09ffd3",
   "metadata": {},
   "source": [
    "## Bagging"
   ]
  },
  {
   "cell_type": "code",
   "execution_count": 171,
   "id": "bdde888a",
   "metadata": {},
   "outputs": [],
   "source": [
    "from sklearn.ensemble import BaggingClassifier"
   ]
  },
  {
   "cell_type": "code",
   "execution_count": 172,
   "id": "095bbf74",
   "metadata": {},
   "outputs": [],
   "source": [
    "bg= BaggingClassifier()"
   ]
  },
  {
   "cell_type": "code",
   "execution_count": 173,
   "id": "2635b637",
   "metadata": {},
   "outputs": [
    {
     "data": {
      "text/plain": [
       "BaggingClassifier()"
      ]
     },
     "execution_count": 173,
     "metadata": {},
     "output_type": "execute_result"
    }
   ],
   "source": [
    "bg.fit(x_train,y_train)"
   ]
  },
  {
   "cell_type": "code",
   "execution_count": 174,
   "id": "e4a5f3fd",
   "metadata": {},
   "outputs": [],
   "source": [
    "y_pred=bg.predict(x_test)"
   ]
  },
  {
   "cell_type": "code",
   "execution_count": 175,
   "id": "96f84b3e",
   "metadata": {},
   "outputs": [
    {
     "data": {
      "text/plain": [
       "0.768560606060606"
      ]
     },
     "execution_count": 175,
     "metadata": {},
     "output_type": "execute_result"
    }
   ],
   "source": [
    "accuracy_score(y_test,y_pred)"
   ]
  },
  {
   "cell_type": "markdown",
   "id": "ae857f18",
   "metadata": {},
   "source": [
    "## Ada Boosting"
   ]
  },
  {
   "cell_type": "code",
   "execution_count": 176,
   "id": "2fc31b0e",
   "metadata": {},
   "outputs": [],
   "source": [
    "from sklearn.ensemble import AdaBoostClassifier"
   ]
  },
  {
   "cell_type": "code",
   "execution_count": 177,
   "id": "3dae40b7",
   "metadata": {},
   "outputs": [],
   "source": [
    "adb= AdaBoostClassifier(learning_rate=.6,random_state=42,algorithm='SAMME.R',n_estimators=70)"
   ]
  },
  {
   "cell_type": "code",
   "execution_count": 178,
   "id": "83470ed0",
   "metadata": {},
   "outputs": [
    {
     "data": {
      "text/plain": [
       "AdaBoostClassifier(learning_rate=0.6, n_estimators=70, random_state=42)"
      ]
     },
     "execution_count": 178,
     "metadata": {},
     "output_type": "execute_result"
    }
   ],
   "source": [
    "adb.fit(x_train,y_train)"
   ]
  },
  {
   "cell_type": "code",
   "execution_count": 179,
   "id": "71e0a391",
   "metadata": {},
   "outputs": [],
   "source": [
    "y_pred=adb.predict(x_test)"
   ]
  },
  {
   "cell_type": "code",
   "execution_count": 180,
   "id": "e537df20",
   "metadata": {},
   "outputs": [
    {
     "data": {
      "text/plain": [
       "0.6363636363636364"
      ]
     },
     "execution_count": 180,
     "metadata": {},
     "output_type": "execute_result"
    }
   ],
   "source": [
    "accuracy_score(y_test,y_pred)"
   ]
  },
  {
   "cell_type": "markdown",
   "id": "0a4d8e5a",
   "metadata": {},
   "source": [
    "## Gradient boosting"
   ]
  },
  {
   "cell_type": "code",
   "execution_count": 181,
   "id": "9b9e09bd",
   "metadata": {},
   "outputs": [],
   "source": [
    "from sklearn.ensemble import GradientBoostingClassifier"
   ]
  },
  {
   "cell_type": "code",
   "execution_count": 182,
   "id": "b76ab7e3",
   "metadata": {},
   "outputs": [],
   "source": [
    "gb=GradientBoostingClassifier(random_state=42,warm_start=True,n_estimators=150,ccp_alpha=.00001)"
   ]
  },
  {
   "cell_type": "code",
   "execution_count": 183,
   "id": "f4d92e46",
   "metadata": {},
   "outputs": [
    {
     "data": {
      "text/plain": [
       "GradientBoostingClassifier(ccp_alpha=1e-05, n_estimators=150, random_state=42,\n",
       "                           warm_start=True)"
      ]
     },
     "execution_count": 183,
     "metadata": {},
     "output_type": "execute_result"
    }
   ],
   "source": [
    "gb.fit(x_train,y_train)"
   ]
  },
  {
   "cell_type": "code",
   "execution_count": 184,
   "id": "4628d630",
   "metadata": {},
   "outputs": [],
   "source": [
    "y_pred=gb.predict(x_test)"
   ]
  },
  {
   "cell_type": "code",
   "execution_count": 185,
   "id": "a5769254",
   "metadata": {},
   "outputs": [
    {
     "data": {
      "text/plain": [
       "0.7627525252525252"
      ]
     },
     "execution_count": 185,
     "metadata": {},
     "output_type": "execute_result"
    }
   ],
   "source": [
    "accuracy_score(y_test,y_pred)"
   ]
  },
  {
   "cell_type": "markdown",
   "id": "dab4b520",
   "metadata": {},
   "source": [
    "## Kmeans"
   ]
  },
  {
   "cell_type": "code",
   "execution_count": 186,
   "id": "a332bddc",
   "metadata": {},
   "outputs": [],
   "source": [
    "from sklearn.cluster import KMeans"
   ]
  },
  {
   "cell_type": "code",
   "execution_count": 187,
   "id": "842e0f7e",
   "metadata": {},
   "outputs": [],
   "source": [
    "km=KMeans(n_clusters=9)"
   ]
  },
  {
   "cell_type": "code",
   "execution_count": 188,
   "id": "83038fce",
   "metadata": {},
   "outputs": [
    {
     "data": {
      "text/plain": [
       "KMeans(n_clusters=9)"
      ]
     },
     "execution_count": 188,
     "metadata": {},
     "output_type": "execute_result"
    }
   ],
   "source": [
    "km.fit(x_train,y_train)"
   ]
  },
  {
   "cell_type": "code",
   "execution_count": 189,
   "id": "3043ca0a",
   "metadata": {},
   "outputs": [],
   "source": [
    "y_pred=km.predict(x_test)"
   ]
  },
  {
   "cell_type": "code",
   "execution_count": 190,
   "id": "001997a7",
   "metadata": {},
   "outputs": [
    {
     "data": {
      "text/plain": [
       "0.18813131313131312"
      ]
     },
     "execution_count": 190,
     "metadata": {},
     "output_type": "execute_result"
    }
   ],
   "source": [
    "accuracy_score(y_test,y_pred)"
   ]
  },
  {
   "cell_type": "code",
   "execution_count": 191,
   "id": "1759702c",
   "metadata": {},
   "outputs": [],
   "source": [
    "from sklearn.cluster import DBSCAN"
   ]
  },
  {
   "cell_type": "code",
   "execution_count": 192,
   "id": "86122fac",
   "metadata": {},
   "outputs": [],
   "source": [
    "dbs=DBSCAN()"
   ]
  },
  {
   "cell_type": "code",
   "execution_count": 193,
   "id": "25a3bc77",
   "metadata": {},
   "outputs": [
    {
     "data": {
      "text/plain": [
       "DBSCAN()"
      ]
     },
     "execution_count": 193,
     "metadata": {},
     "output_type": "execute_result"
    }
   ],
   "source": [
    "dbs.fit(x_train,y_train)"
   ]
  },
  {
   "cell_type": "code",
   "execution_count": 194,
   "id": "3ab04076",
   "metadata": {},
   "outputs": [],
   "source": [
    "y_pred=dbs.fit_predict(x_test)"
   ]
  },
  {
   "cell_type": "code",
   "execution_count": 195,
   "id": "35ce598b",
   "metadata": {},
   "outputs": [
    {
     "data": {
      "text/plain": [
       "0.02058080808080808"
      ]
     },
     "execution_count": 195,
     "metadata": {},
     "output_type": "execute_result"
    }
   ],
   "source": [
    "accuracy_score(y_test,y_pred)"
   ]
  },
  {
   "cell_type": "markdown",
   "id": "2e174509",
   "metadata": {},
   "source": [
    "## SVC"
   ]
  },
  {
   "cell_type": "code",
   "execution_count": 196,
   "id": "4fd3737f",
   "metadata": {},
   "outputs": [],
   "source": [
    "from sklearn.svm import LinearSVC"
   ]
  },
  {
   "cell_type": "code",
   "execution_count": 197,
   "id": "a56c791b",
   "metadata": {},
   "outputs": [],
   "source": [
    "lsvc= LinearSVC(max_iter=5000,random_state=42,C=.62)"
   ]
  },
  {
   "cell_type": "code",
   "execution_count": 198,
   "id": "e61e2207",
   "metadata": {},
   "outputs": [
    {
     "data": {
      "text/plain": [
       "LinearSVC(C=0.62, max_iter=5000, random_state=42)"
      ]
     },
     "execution_count": 198,
     "metadata": {},
     "output_type": "execute_result"
    }
   ],
   "source": [
    "lsvc.fit(x_train,y_train)"
   ]
  },
  {
   "cell_type": "code",
   "execution_count": 199,
   "id": "bc68e189",
   "metadata": {},
   "outputs": [],
   "source": [
    "y_pred=lsvc.predict(x_test)"
   ]
  },
  {
   "cell_type": "code",
   "execution_count": 200,
   "id": "a6cad1de",
   "metadata": {},
   "outputs": [
    {
     "data": {
      "text/plain": [
       "0.6252525252525253"
      ]
     },
     "execution_count": 200,
     "metadata": {},
     "output_type": "execute_result"
    }
   ],
   "source": [
    "accuracy_score(y_test,y_pred)"
   ]
  },
  {
   "cell_type": "code",
   "execution_count": 201,
   "id": "e36da0e1",
   "metadata": {},
   "outputs": [],
   "source": [
    "from sklearn.svm import SVC"
   ]
  },
  {
   "cell_type": "code",
   "execution_count": 202,
   "id": "b37e21fc",
   "metadata": {},
   "outputs": [],
   "source": [
    "svc=SVC()"
   ]
  },
  {
   "cell_type": "code",
   "execution_count": 203,
   "id": "b6f7e55d",
   "metadata": {},
   "outputs": [
    {
     "data": {
      "text/plain": [
       "SVC()"
      ]
     },
     "execution_count": 203,
     "metadata": {},
     "output_type": "execute_result"
    }
   ],
   "source": [
    "svc.fit(x_train,y_train)"
   ]
  },
  {
   "cell_type": "code",
   "execution_count": 204,
   "id": "aedfff70",
   "metadata": {},
   "outputs": [],
   "source": [
    "y_pred=svc.predict(x_test)"
   ]
  },
  {
   "cell_type": "code",
   "execution_count": 205,
   "id": "1e1b1dff",
   "metadata": {},
   "outputs": [
    {
     "data": {
      "text/plain": [
       "0.7146464646464646"
      ]
     },
     "execution_count": 205,
     "metadata": {},
     "output_type": "execute_result"
    }
   ],
   "source": [
    "accuracy_score(y_test,y_pred)"
   ]
  },
  {
   "cell_type": "markdown",
   "id": "077c69c2",
   "metadata": {},
   "source": [
    "## Pickling"
   ]
  },
  {
   "cell_type": "code",
   "execution_count": 151,
   "id": "70f8891e",
   "metadata": {},
   "outputs": [],
   "source": [
    "import pickle"
   ]
  },
  {
   "cell_type": "code",
   "execution_count": 206,
   "id": "df34e5d5",
   "metadata": {},
   "outputs": [],
   "source": [
    "pickle.dump(rf1,open('activity_recog_2.pickle','wb'))"
   ]
  },
  {
   "cell_type": "code",
   "execution_count": 207,
   "id": "b553cd75",
   "metadata": {},
   "outputs": [],
   "source": [
    "pickle.dump(scaler,open('stdtransf.pickle','wb'))"
   ]
  },
  {
   "cell_type": "code",
   "execution_count": null,
   "id": "d47f2ccf",
   "metadata": {},
   "outputs": [],
   "source": []
  }
 ],
 "metadata": {
  "kernelspec": {
   "display_name": "Python 3",
   "language": "python",
   "name": "python3"
  },
  "language_info": {
   "codemirror_mode": {
    "name": "ipython",
    "version": 3
   },
   "file_extension": ".py",
   "mimetype": "text/x-python",
   "name": "python",
   "nbconvert_exporter": "python",
   "pygments_lexer": "ipython3",
   "version": "3.8.8"
  }
 },
 "nbformat": 4,
 "nbformat_minor": 5
}
